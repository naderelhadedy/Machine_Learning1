{
  "nbformat": 4,
  "nbformat_minor": 0,
  "metadata": {
    "colab": {
      "name": "Nader_Elhadedy-Final_Project_Assessment-Task2-Ismailia.ipynb",
      "provenance": [],
      "collapsed_sections": []
    },
    "kernelspec": {
      "name": "python3",
      "display_name": "Python 3"
    },
    "language_info": {
      "name": "python"
    }
  },
  "cells": [
    {
      "cell_type": "markdown",
      "metadata": {
        "id": "ss-Om0qVjS8M"
      },
      "source": [
        "#**Name: Nader Mohamed Elhadedy**"
      ]
    },
    {
      "cell_type": "code",
      "metadata": {
        "colab": {
          "base_uri": "https://localhost:8080/"
        },
        "id": "AdW57GoJW9yv",
        "outputId": "a8141970-93c2-4207-b5a8-b1c9b80c4647"
      },
      "source": [
        "from google.colab import drive\n",
        "drive.mount(\"/content/drive\")"
      ],
      "execution_count": null,
      "outputs": [
        {
          "output_type": "stream",
          "name": "stdout",
          "text": [
            "Drive already mounted at /content/drive; to attempt to forcibly remount, call drive.mount(\"/content/drive\", force_remount=True).\n"
          ]
        }
      ]
    },
    {
      "cell_type": "code",
      "metadata": {
        "colab": {
          "base_uri": "https://localhost:8080/"
        },
        "id": "fJLgFyv3yaKs",
        "outputId": "af8b3c26-eaf1-4faf-c15b-a6a7af1b8ec5"
      },
      "source": [
        "cd drive/MyDrive"
      ],
      "execution_count": null,
      "outputs": [
        {
          "output_type": "stream",
          "name": "stdout",
          "text": [
            "/content/drive/MyDrive\n"
          ]
        }
      ]
    },
    {
      "cell_type": "code",
      "metadata": {
        "id": "SY8Ae_cBujBQ"
      },
      "source": [
        "import warnings\n",
        "warnings.filterwarnings('ignore')"
      ],
      "execution_count": null,
      "outputs": []
    },
    {
      "cell_type": "markdown",
      "metadata": {
        "id": "EE3wjY5ONDxr"
      },
      "source": [
        "> # **Same preprocessing steps as task1**"
      ]
    },
    {
      "cell_type": "code",
      "metadata": {
        "id": "nOTjrBxj8ejJ"
      },
      "source": [
        "# helping libraries\n",
        "import numpy as np\n",
        "import pandas as pd\n",
        "import seaborn as sns\n",
        "import matplotlib.pyplot as plt\n",
        "from collections import Counter\n",
        "from sklearn.compose import ColumnTransformer\n",
        "from sklearn.preprocessing import OneHotEncoder\n",
        "from sklearn.preprocessing import StandardScaler\n",
        "from imblearn.over_sampling import RandomOverSampler\n",
        "from imblearn.under_sampling import RandomUnderSampler\n",
        "from sklearn.model_selection import StratifiedShuffleSplit"
      ],
      "execution_count": null,
      "outputs": []
    },
    {
      "cell_type": "code",
      "metadata": {
        "id": "yFU2oaCXyiNK"
      },
      "source": [
        "loans = pd.read_csv('train_set.csv')"
      ],
      "execution_count": null,
      "outputs": []
    },
    {
      "cell_type": "code",
      "metadata": {
        "colab": {
          "base_uri": "https://localhost:8080/",
          "height": 224
        },
        "id": "WifyaHUDytzT",
        "outputId": "9139da3e-da27-4da6-c6ac-f7ff6ab8a03c"
      },
      "source": [
        "loans.head()"
      ],
      "execution_count": null,
      "outputs": [
        {
          "output_type": "execute_result",
          "data": {
            "text/html": [
              "<div>\n",
              "<style scoped>\n",
              "    .dataframe tbody tr th:only-of-type {\n",
              "        vertical-align: middle;\n",
              "    }\n",
              "\n",
              "    .dataframe tbody tr th {\n",
              "        vertical-align: top;\n",
              "    }\n",
              "\n",
              "    .dataframe thead th {\n",
              "        text-align: right;\n",
              "    }\n",
              "</style>\n",
              "<table border=\"1\" class=\"dataframe\">\n",
              "  <thead>\n",
              "    <tr style=\"text-align: right;\">\n",
              "      <th></th>\n",
              "      <th>Id</th>\n",
              "      <th>Income</th>\n",
              "      <th>Age</th>\n",
              "      <th>Experience</th>\n",
              "      <th>Married/Single</th>\n",
              "      <th>House_Ownership</th>\n",
              "      <th>Car_Ownership</th>\n",
              "      <th>Profession</th>\n",
              "      <th>CITY</th>\n",
              "      <th>STATE</th>\n",
              "      <th>CURRENT_JOB_YRS</th>\n",
              "      <th>CURRENT_HOUSE_YRS</th>\n",
              "      <th>Risk_Flag</th>\n",
              "    </tr>\n",
              "  </thead>\n",
              "  <tbody>\n",
              "    <tr>\n",
              "      <th>0</th>\n",
              "      <td>1</td>\n",
              "      <td>1303834</td>\n",
              "      <td>23</td>\n",
              "      <td>3</td>\n",
              "      <td>single</td>\n",
              "      <td>rented</td>\n",
              "      <td>no</td>\n",
              "      <td>Mechanical_engineer</td>\n",
              "      <td>Rewa</td>\n",
              "      <td>Madhya_Pradesh</td>\n",
              "      <td>3</td>\n",
              "      <td>13</td>\n",
              "      <td>0</td>\n",
              "    </tr>\n",
              "    <tr>\n",
              "      <th>1</th>\n",
              "      <td>2</td>\n",
              "      <td>7574516</td>\n",
              "      <td>40</td>\n",
              "      <td>10</td>\n",
              "      <td>single</td>\n",
              "      <td>rented</td>\n",
              "      <td>no</td>\n",
              "      <td>Software_Developer</td>\n",
              "      <td>Parbhani</td>\n",
              "      <td>Maharashtra</td>\n",
              "      <td>9</td>\n",
              "      <td>13</td>\n",
              "      <td>0</td>\n",
              "    </tr>\n",
              "    <tr>\n",
              "      <th>2</th>\n",
              "      <td>3</td>\n",
              "      <td>3991815</td>\n",
              "      <td>66</td>\n",
              "      <td>4</td>\n",
              "      <td>married</td>\n",
              "      <td>rented</td>\n",
              "      <td>no</td>\n",
              "      <td>Technical_writer</td>\n",
              "      <td>Alappuzha</td>\n",
              "      <td>Kerala</td>\n",
              "      <td>4</td>\n",
              "      <td>10</td>\n",
              "      <td>0</td>\n",
              "    </tr>\n",
              "    <tr>\n",
              "      <th>3</th>\n",
              "      <td>4</td>\n",
              "      <td>6256451</td>\n",
              "      <td>41</td>\n",
              "      <td>2</td>\n",
              "      <td>single</td>\n",
              "      <td>rented</td>\n",
              "      <td>yes</td>\n",
              "      <td>Software_Developer</td>\n",
              "      <td>Bhubaneswar</td>\n",
              "      <td>Odisha</td>\n",
              "      <td>2</td>\n",
              "      <td>12</td>\n",
              "      <td>1</td>\n",
              "    </tr>\n",
              "    <tr>\n",
              "      <th>4</th>\n",
              "      <td>5</td>\n",
              "      <td>5768871</td>\n",
              "      <td>47</td>\n",
              "      <td>11</td>\n",
              "      <td>single</td>\n",
              "      <td>rented</td>\n",
              "      <td>no</td>\n",
              "      <td>Civil_servant</td>\n",
              "      <td>Tiruchirappalli[10]</td>\n",
              "      <td>Tamil_Nadu</td>\n",
              "      <td>3</td>\n",
              "      <td>14</td>\n",
              "      <td>1</td>\n",
              "    </tr>\n",
              "  </tbody>\n",
              "</table>\n",
              "</div>"
            ],
            "text/plain": [
              "   Id   Income  Age  ...  CURRENT_JOB_YRS CURRENT_HOUSE_YRS Risk_Flag\n",
              "0   1  1303834   23  ...                3                13         0\n",
              "1   2  7574516   40  ...                9                13         0\n",
              "2   3  3991815   66  ...                4                10         0\n",
              "3   4  6256451   41  ...                2                12         1\n",
              "4   5  5768871   47  ...                3                14         1\n",
              "\n",
              "[5 rows x 13 columns]"
            ]
          },
          "metadata": {},
          "execution_count": 6
        }
      ]
    },
    {
      "cell_type": "code",
      "metadata": {
        "colab": {
          "base_uri": "https://localhost:8080/",
          "height": 241
        },
        "id": "tcf4z4LCyxt0",
        "outputId": "b7c3ad9e-84d2-4caf-9c4c-adaf871c6d2e"
      },
      "source": [
        "loans.tail()"
      ],
      "execution_count": null,
      "outputs": [
        {
          "output_type": "execute_result",
          "data": {
            "text/html": [
              "<div>\n",
              "<style scoped>\n",
              "    .dataframe tbody tr th:only-of-type {\n",
              "        vertical-align: middle;\n",
              "    }\n",
              "\n",
              "    .dataframe tbody tr th {\n",
              "        vertical-align: top;\n",
              "    }\n",
              "\n",
              "    .dataframe thead th {\n",
              "        text-align: right;\n",
              "    }\n",
              "</style>\n",
              "<table border=\"1\" class=\"dataframe\">\n",
              "  <thead>\n",
              "    <tr style=\"text-align: right;\">\n",
              "      <th></th>\n",
              "      <th>Id</th>\n",
              "      <th>Income</th>\n",
              "      <th>Age</th>\n",
              "      <th>Experience</th>\n",
              "      <th>Married/Single</th>\n",
              "      <th>House_Ownership</th>\n",
              "      <th>Car_Ownership</th>\n",
              "      <th>Profession</th>\n",
              "      <th>CITY</th>\n",
              "      <th>STATE</th>\n",
              "      <th>CURRENT_JOB_YRS</th>\n",
              "      <th>CURRENT_HOUSE_YRS</th>\n",
              "      <th>Risk_Flag</th>\n",
              "    </tr>\n",
              "  </thead>\n",
              "  <tbody>\n",
              "    <tr>\n",
              "      <th>251995</th>\n",
              "      <td>251996</td>\n",
              "      <td>8154883</td>\n",
              "      <td>43</td>\n",
              "      <td>13</td>\n",
              "      <td>single</td>\n",
              "      <td>rented</td>\n",
              "      <td>no</td>\n",
              "      <td>Surgeon</td>\n",
              "      <td>Kolkata</td>\n",
              "      <td>West_Bengal</td>\n",
              "      <td>6</td>\n",
              "      <td>11</td>\n",
              "      <td>0</td>\n",
              "    </tr>\n",
              "    <tr>\n",
              "      <th>251996</th>\n",
              "      <td>251997</td>\n",
              "      <td>2843572</td>\n",
              "      <td>26</td>\n",
              "      <td>10</td>\n",
              "      <td>single</td>\n",
              "      <td>rented</td>\n",
              "      <td>no</td>\n",
              "      <td>Army_officer</td>\n",
              "      <td>Rewa</td>\n",
              "      <td>Madhya_Pradesh</td>\n",
              "      <td>6</td>\n",
              "      <td>11</td>\n",
              "      <td>0</td>\n",
              "    </tr>\n",
              "    <tr>\n",
              "      <th>251997</th>\n",
              "      <td>251998</td>\n",
              "      <td>4522448</td>\n",
              "      <td>46</td>\n",
              "      <td>7</td>\n",
              "      <td>single</td>\n",
              "      <td>rented</td>\n",
              "      <td>no</td>\n",
              "      <td>Design_Engineer</td>\n",
              "      <td>Kalyan-Dombivli</td>\n",
              "      <td>Maharashtra</td>\n",
              "      <td>7</td>\n",
              "      <td>12</td>\n",
              "      <td>0</td>\n",
              "    </tr>\n",
              "    <tr>\n",
              "      <th>251998</th>\n",
              "      <td>251999</td>\n",
              "      <td>6507128</td>\n",
              "      <td>45</td>\n",
              "      <td>0</td>\n",
              "      <td>single</td>\n",
              "      <td>rented</td>\n",
              "      <td>no</td>\n",
              "      <td>Graphic_Designer</td>\n",
              "      <td>Pondicherry</td>\n",
              "      <td>Puducherry</td>\n",
              "      <td>0</td>\n",
              "      <td>10</td>\n",
              "      <td>0</td>\n",
              "    </tr>\n",
              "    <tr>\n",
              "      <th>251999</th>\n",
              "      <td>252000</td>\n",
              "      <td>9070230</td>\n",
              "      <td>70</td>\n",
              "      <td>17</td>\n",
              "      <td>single</td>\n",
              "      <td>rented</td>\n",
              "      <td>no</td>\n",
              "      <td>Statistician</td>\n",
              "      <td>Avadi</td>\n",
              "      <td>Tamil_Nadu</td>\n",
              "      <td>7</td>\n",
              "      <td>11</td>\n",
              "      <td>0</td>\n",
              "    </tr>\n",
              "  </tbody>\n",
              "</table>\n",
              "</div>"
            ],
            "text/plain": [
              "            Id   Income  Age  ...  CURRENT_JOB_YRS CURRENT_HOUSE_YRS Risk_Flag\n",
              "251995  251996  8154883   43  ...                6                11         0\n",
              "251996  251997  2843572   26  ...                6                11         0\n",
              "251997  251998  4522448   46  ...                7                12         0\n",
              "251998  251999  6507128   45  ...                0                10         0\n",
              "251999  252000  9070230   70  ...                7                11         0\n",
              "\n",
              "[5 rows x 13 columns]"
            ]
          },
          "metadata": {},
          "execution_count": 7
        }
      ]
    },
    {
      "cell_type": "code",
      "metadata": {
        "colab": {
          "base_uri": "https://localhost:8080/"
        },
        "id": "5-YBjk2BzNUw",
        "outputId": "0019fda5-4c79-481d-8c8a-5cf130bf1ada"
      },
      "source": [
        "loans.shape"
      ],
      "execution_count": null,
      "outputs": [
        {
          "output_type": "execute_result",
          "data": {
            "text/plain": [
              "(252000, 13)"
            ]
          },
          "metadata": {},
          "execution_count": 8
        }
      ]
    },
    {
      "cell_type": "code",
      "metadata": {
        "colab": {
          "base_uri": "https://localhost:8080/"
        },
        "id": "CHOSR6rEzUKy",
        "outputId": "c7f30d1b-8c1b-431a-9c1d-78d097b95347"
      },
      "source": [
        "loans.info()"
      ],
      "execution_count": null,
      "outputs": [
        {
          "output_type": "stream",
          "name": "stdout",
          "text": [
            "<class 'pandas.core.frame.DataFrame'>\n",
            "RangeIndex: 252000 entries, 0 to 251999\n",
            "Data columns (total 13 columns):\n",
            " #   Column             Non-Null Count   Dtype \n",
            "---  ------             --------------   ----- \n",
            " 0   Id                 252000 non-null  int64 \n",
            " 1   Income             252000 non-null  int64 \n",
            " 2   Age                252000 non-null  int64 \n",
            " 3   Experience         252000 non-null  int64 \n",
            " 4   Married/Single     252000 non-null  object\n",
            " 5   House_Ownership    252000 non-null  object\n",
            " 6   Car_Ownership      252000 non-null  object\n",
            " 7   Profession         252000 non-null  object\n",
            " 8   CITY               252000 non-null  object\n",
            " 9   STATE              252000 non-null  object\n",
            " 10  CURRENT_JOB_YRS    252000 non-null  int64 \n",
            " 11  CURRENT_HOUSE_YRS  252000 non-null  int64 \n",
            " 12  Risk_Flag          252000 non-null  int64 \n",
            "dtypes: int64(7), object(6)\n",
            "memory usage: 25.0+ MB\n"
          ]
        }
      ]
    },
    {
      "cell_type": "code",
      "metadata": {
        "colab": {
          "base_uri": "https://localhost:8080/",
          "height": 266
        },
        "id": "9ynxghh1zvRW",
        "outputId": "fd266c0f-0fef-45f4-c588-c9090516b4d9"
      },
      "source": [
        "loans.describe().T"
      ],
      "execution_count": null,
      "outputs": [
        {
          "output_type": "execute_result",
          "data": {
            "text/html": [
              "<div>\n",
              "<style scoped>\n",
              "    .dataframe tbody tr th:only-of-type {\n",
              "        vertical-align: middle;\n",
              "    }\n",
              "\n",
              "    .dataframe tbody tr th {\n",
              "        vertical-align: top;\n",
              "    }\n",
              "\n",
              "    .dataframe thead th {\n",
              "        text-align: right;\n",
              "    }\n",
              "</style>\n",
              "<table border=\"1\" class=\"dataframe\">\n",
              "  <thead>\n",
              "    <tr style=\"text-align: right;\">\n",
              "      <th></th>\n",
              "      <th>count</th>\n",
              "      <th>mean</th>\n",
              "      <th>std</th>\n",
              "      <th>min</th>\n",
              "      <th>25%</th>\n",
              "      <th>50%</th>\n",
              "      <th>75%</th>\n",
              "      <th>max</th>\n",
              "    </tr>\n",
              "  </thead>\n",
              "  <tbody>\n",
              "    <tr>\n",
              "      <th>Id</th>\n",
              "      <td>252000.0</td>\n",
              "      <td>1.260005e+05</td>\n",
              "      <td>7.274628e+04</td>\n",
              "      <td>1.0</td>\n",
              "      <td>63000.75</td>\n",
              "      <td>126000.5</td>\n",
              "      <td>189000.25</td>\n",
              "      <td>252000.0</td>\n",
              "    </tr>\n",
              "    <tr>\n",
              "      <th>Income</th>\n",
              "      <td>252000.0</td>\n",
              "      <td>4.997117e+06</td>\n",
              "      <td>2.878311e+06</td>\n",
              "      <td>10310.0</td>\n",
              "      <td>2503015.00</td>\n",
              "      <td>5000694.5</td>\n",
              "      <td>7477502.00</td>\n",
              "      <td>9999938.0</td>\n",
              "    </tr>\n",
              "    <tr>\n",
              "      <th>Age</th>\n",
              "      <td>252000.0</td>\n",
              "      <td>4.995407e+01</td>\n",
              "      <td>1.706385e+01</td>\n",
              "      <td>21.0</td>\n",
              "      <td>35.00</td>\n",
              "      <td>50.0</td>\n",
              "      <td>65.00</td>\n",
              "      <td>79.0</td>\n",
              "    </tr>\n",
              "    <tr>\n",
              "      <th>Experience</th>\n",
              "      <td>252000.0</td>\n",
              "      <td>1.008444e+01</td>\n",
              "      <td>6.002590e+00</td>\n",
              "      <td>0.0</td>\n",
              "      <td>5.00</td>\n",
              "      <td>10.0</td>\n",
              "      <td>15.00</td>\n",
              "      <td>20.0</td>\n",
              "    </tr>\n",
              "    <tr>\n",
              "      <th>CURRENT_JOB_YRS</th>\n",
              "      <td>252000.0</td>\n",
              "      <td>6.333877e+00</td>\n",
              "      <td>3.647053e+00</td>\n",
              "      <td>0.0</td>\n",
              "      <td>3.00</td>\n",
              "      <td>6.0</td>\n",
              "      <td>9.00</td>\n",
              "      <td>14.0</td>\n",
              "    </tr>\n",
              "    <tr>\n",
              "      <th>CURRENT_HOUSE_YRS</th>\n",
              "      <td>252000.0</td>\n",
              "      <td>1.199779e+01</td>\n",
              "      <td>1.399037e+00</td>\n",
              "      <td>10.0</td>\n",
              "      <td>11.00</td>\n",
              "      <td>12.0</td>\n",
              "      <td>13.00</td>\n",
              "      <td>14.0</td>\n",
              "    </tr>\n",
              "    <tr>\n",
              "      <th>Risk_Flag</th>\n",
              "      <td>252000.0</td>\n",
              "      <td>1.230000e-01</td>\n",
              "      <td>3.284379e-01</td>\n",
              "      <td>0.0</td>\n",
              "      <td>0.00</td>\n",
              "      <td>0.0</td>\n",
              "      <td>0.00</td>\n",
              "      <td>1.0</td>\n",
              "    </tr>\n",
              "  </tbody>\n",
              "</table>\n",
              "</div>"
            ],
            "text/plain": [
              "                      count          mean  ...         75%        max\n",
              "Id                 252000.0  1.260005e+05  ...   189000.25   252000.0\n",
              "Income             252000.0  4.997117e+06  ...  7477502.00  9999938.0\n",
              "Age                252000.0  4.995407e+01  ...       65.00       79.0\n",
              "Experience         252000.0  1.008444e+01  ...       15.00       20.0\n",
              "CURRENT_JOB_YRS    252000.0  6.333877e+00  ...        9.00       14.0\n",
              "CURRENT_HOUSE_YRS  252000.0  1.199779e+01  ...       13.00       14.0\n",
              "Risk_Flag          252000.0  1.230000e-01  ...        0.00        1.0\n",
              "\n",
              "[7 rows x 8 columns]"
            ]
          },
          "metadata": {},
          "execution_count": 10
        }
      ]
    },
    {
      "cell_type": "code",
      "metadata": {
        "colab": {
          "base_uri": "https://localhost:8080/"
        },
        "id": "AgBuGA4O1_cC",
        "outputId": "f15dcd60-b213-410d-9df0-d9cd9757b448"
      },
      "source": [
        "loans.shape"
      ],
      "execution_count": null,
      "outputs": [
        {
          "output_type": "execute_result",
          "data": {
            "text/plain": [
              "(252000, 13)"
            ]
          },
          "metadata": {},
          "execution_count": 11
        }
      ]
    },
    {
      "cell_type": "code",
      "metadata": {
        "colab": {
          "base_uri": "https://localhost:8080/"
        },
        "id": "DlGYH4HJ0NoP",
        "outputId": "0fc104d6-eb2f-4251-d34d-304e8d6f40ba"
      },
      "source": [
        "loans.isna().sum()"
      ],
      "execution_count": null,
      "outputs": [
        {
          "output_type": "execute_result",
          "data": {
            "text/plain": [
              "Id                   0\n",
              "Income               0\n",
              "Age                  0\n",
              "Experience           0\n",
              "Married/Single       0\n",
              "House_Ownership      0\n",
              "Car_Ownership        0\n",
              "Profession           0\n",
              "CITY                 0\n",
              "STATE                0\n",
              "CURRENT_JOB_YRS      0\n",
              "CURRENT_HOUSE_YRS    0\n",
              "Risk_Flag            0\n",
              "dtype: int64"
            ]
          },
          "metadata": {},
          "execution_count": 12
        }
      ]
    },
    {
      "cell_type": "code",
      "metadata": {
        "colab": {
          "base_uri": "https://localhost:8080/"
        },
        "id": "zNObKqTE0Uad",
        "outputId": "c8673845-ade6-4ad1-a349-ddc22be9abd7"
      },
      "source": [
        "loans.duplicated().sum()"
      ],
      "execution_count": null,
      "outputs": [
        {
          "output_type": "execute_result",
          "data": {
            "text/plain": [
              "0"
            ]
          },
          "metadata": {},
          "execution_count": 13
        }
      ]
    },
    {
      "cell_type": "code",
      "metadata": {
        "id": "uieD1-s8D_2S"
      },
      "source": [
        "split = StratifiedShuffleSplit(n_splits=1, test_size=0.2, random_state=42)\n",
        "for train_index, valid_index in split.split(loans, loans['Risk_Flag']):\n",
        "  strat_train_set = loans.loc[train_index]\n",
        "  strat_valid_set = loans.loc[valid_index]"
      ],
      "execution_count": null,
      "outputs": []
    },
    {
      "cell_type": "code",
      "metadata": {
        "colab": {
          "base_uri": "https://localhost:8080/",
          "height": 439
        },
        "id": "SjKgZGvrKCoa",
        "outputId": "f35d8e49-8b06-4bf3-ddd2-9d4f762170fd"
      },
      "source": [
        "strat_train_set"
      ],
      "execution_count": null,
      "outputs": [
        {
          "output_type": "execute_result",
          "data": {
            "text/html": [
              "<div>\n",
              "<style scoped>\n",
              "    .dataframe tbody tr th:only-of-type {\n",
              "        vertical-align: middle;\n",
              "    }\n",
              "\n",
              "    .dataframe tbody tr th {\n",
              "        vertical-align: top;\n",
              "    }\n",
              "\n",
              "    .dataframe thead th {\n",
              "        text-align: right;\n",
              "    }\n",
              "</style>\n",
              "<table border=\"1\" class=\"dataframe\">\n",
              "  <thead>\n",
              "    <tr style=\"text-align: right;\">\n",
              "      <th></th>\n",
              "      <th>Id</th>\n",
              "      <th>Income</th>\n",
              "      <th>Age</th>\n",
              "      <th>Experience</th>\n",
              "      <th>Married/Single</th>\n",
              "      <th>House_Ownership</th>\n",
              "      <th>Car_Ownership</th>\n",
              "      <th>Profession</th>\n",
              "      <th>CITY</th>\n",
              "      <th>STATE</th>\n",
              "      <th>CURRENT_JOB_YRS</th>\n",
              "      <th>CURRENT_HOUSE_YRS</th>\n",
              "      <th>Risk_Flag</th>\n",
              "    </tr>\n",
              "  </thead>\n",
              "  <tbody>\n",
              "    <tr>\n",
              "      <th>13714</th>\n",
              "      <td>13715</td>\n",
              "      <td>8132252</td>\n",
              "      <td>72</td>\n",
              "      <td>7</td>\n",
              "      <td>single</td>\n",
              "      <td>rented</td>\n",
              "      <td>no</td>\n",
              "      <td>Mechanical_engineer</td>\n",
              "      <td>Karaikudi</td>\n",
              "      <td>Tamil_Nadu</td>\n",
              "      <td>6</td>\n",
              "      <td>13</td>\n",
              "      <td>0</td>\n",
              "    </tr>\n",
              "    <tr>\n",
              "      <th>51718</th>\n",
              "      <td>51719</td>\n",
              "      <td>7915651</td>\n",
              "      <td>64</td>\n",
              "      <td>8</td>\n",
              "      <td>single</td>\n",
              "      <td>rented</td>\n",
              "      <td>no</td>\n",
              "      <td>Psychologist</td>\n",
              "      <td>Jamnagar</td>\n",
              "      <td>Gujarat</td>\n",
              "      <td>3</td>\n",
              "      <td>12</td>\n",
              "      <td>0</td>\n",
              "    </tr>\n",
              "    <tr>\n",
              "      <th>99982</th>\n",
              "      <td>99983</td>\n",
              "      <td>6272029</td>\n",
              "      <td>49</td>\n",
              "      <td>12</td>\n",
              "      <td>single</td>\n",
              "      <td>rented</td>\n",
              "      <td>no</td>\n",
              "      <td>Drafter</td>\n",
              "      <td>Sagar</td>\n",
              "      <td>Madhya_Pradesh</td>\n",
              "      <td>7</td>\n",
              "      <td>10</td>\n",
              "      <td>0</td>\n",
              "    </tr>\n",
              "    <tr>\n",
              "      <th>107150</th>\n",
              "      <td>107151</td>\n",
              "      <td>1832125</td>\n",
              "      <td>54</td>\n",
              "      <td>13</td>\n",
              "      <td>single</td>\n",
              "      <td>rented</td>\n",
              "      <td>yes</td>\n",
              "      <td>Scientist</td>\n",
              "      <td>Vijayanagaram</td>\n",
              "      <td>Andhra_Pradesh</td>\n",
              "      <td>12</td>\n",
              "      <td>14</td>\n",
              "      <td>0</td>\n",
              "    </tr>\n",
              "    <tr>\n",
              "      <th>94564</th>\n",
              "      <td>94565</td>\n",
              "      <td>7954133</td>\n",
              "      <td>31</td>\n",
              "      <td>7</td>\n",
              "      <td>single</td>\n",
              "      <td>rented</td>\n",
              "      <td>yes</td>\n",
              "      <td>Drafter</td>\n",
              "      <td>Avadi</td>\n",
              "      <td>Tamil_Nadu</td>\n",
              "      <td>4</td>\n",
              "      <td>12</td>\n",
              "      <td>0</td>\n",
              "    </tr>\n",
              "    <tr>\n",
              "      <th>...</th>\n",
              "      <td>...</td>\n",
              "      <td>...</td>\n",
              "      <td>...</td>\n",
              "      <td>...</td>\n",
              "      <td>...</td>\n",
              "      <td>...</td>\n",
              "      <td>...</td>\n",
              "      <td>...</td>\n",
              "      <td>...</td>\n",
              "      <td>...</td>\n",
              "      <td>...</td>\n",
              "      <td>...</td>\n",
              "      <td>...</td>\n",
              "    </tr>\n",
              "    <tr>\n",
              "      <th>197799</th>\n",
              "      <td>197800</td>\n",
              "      <td>5144485</td>\n",
              "      <td>55</td>\n",
              "      <td>4</td>\n",
              "      <td>single</td>\n",
              "      <td>rented</td>\n",
              "      <td>no</td>\n",
              "      <td>Secretary</td>\n",
              "      <td>Chapra</td>\n",
              "      <td>Bihar</td>\n",
              "      <td>4</td>\n",
              "      <td>13</td>\n",
              "      <td>0</td>\n",
              "    </tr>\n",
              "    <tr>\n",
              "      <th>228682</th>\n",
              "      <td>228683</td>\n",
              "      <td>9031799</td>\n",
              "      <td>49</td>\n",
              "      <td>5</td>\n",
              "      <td>single</td>\n",
              "      <td>rented</td>\n",
              "      <td>no</td>\n",
              "      <td>Architect</td>\n",
              "      <td>Bhimavaram</td>\n",
              "      <td>Andhra_Pradesh</td>\n",
              "      <td>4</td>\n",
              "      <td>10</td>\n",
              "      <td>0</td>\n",
              "    </tr>\n",
              "    <tr>\n",
              "      <th>114068</th>\n",
              "      <td>114069</td>\n",
              "      <td>1585215</td>\n",
              "      <td>64</td>\n",
              "      <td>9</td>\n",
              "      <td>single</td>\n",
              "      <td>rented</td>\n",
              "      <td>no</td>\n",
              "      <td>Politician</td>\n",
              "      <td>Karnal</td>\n",
              "      <td>Haryana</td>\n",
              "      <td>9</td>\n",
              "      <td>10</td>\n",
              "      <td>0</td>\n",
              "    </tr>\n",
              "    <tr>\n",
              "      <th>200681</th>\n",
              "      <td>200682</td>\n",
              "      <td>4784462</td>\n",
              "      <td>60</td>\n",
              "      <td>19</td>\n",
              "      <td>married</td>\n",
              "      <td>rented</td>\n",
              "      <td>yes</td>\n",
              "      <td>Economist</td>\n",
              "      <td>Durg</td>\n",
              "      <td>Chhattisgarh</td>\n",
              "      <td>9</td>\n",
              "      <td>14</td>\n",
              "      <td>0</td>\n",
              "    </tr>\n",
              "    <tr>\n",
              "      <th>144136</th>\n",
              "      <td>144137</td>\n",
              "      <td>901466</td>\n",
              "      <td>45</td>\n",
              "      <td>15</td>\n",
              "      <td>single</td>\n",
              "      <td>rented</td>\n",
              "      <td>yes</td>\n",
              "      <td>Web_designer</td>\n",
              "      <td>Shivpuri</td>\n",
              "      <td>Madhya_Pradesh</td>\n",
              "      <td>8</td>\n",
              "      <td>13</td>\n",
              "      <td>1</td>\n",
              "    </tr>\n",
              "  </tbody>\n",
              "</table>\n",
              "<p>201600 rows × 13 columns</p>\n",
              "</div>"
            ],
            "text/plain": [
              "            Id   Income  Age  ...  CURRENT_JOB_YRS CURRENT_HOUSE_YRS Risk_Flag\n",
              "13714    13715  8132252   72  ...                6                13         0\n",
              "51718    51719  7915651   64  ...                3                12         0\n",
              "99982    99983  6272029   49  ...                7                10         0\n",
              "107150  107151  1832125   54  ...               12                14         0\n",
              "94564    94565  7954133   31  ...                4                12         0\n",
              "...        ...      ...  ...  ...              ...               ...       ...\n",
              "197799  197800  5144485   55  ...                4                13         0\n",
              "228682  228683  9031799   49  ...                4                10         0\n",
              "114068  114069  1585215   64  ...                9                10         0\n",
              "200681  200682  4784462   60  ...                9                14         0\n",
              "144136  144137   901466   45  ...                8                13         1\n",
              "\n",
              "[201600 rows x 13 columns]"
            ]
          },
          "metadata": {},
          "execution_count": 15
        }
      ]
    },
    {
      "cell_type": "code",
      "metadata": {
        "colab": {
          "base_uri": "https://localhost:8080/",
          "height": 439
        },
        "id": "0PxEFe-aLDM5",
        "outputId": "0d66b2bb-f8b4-482c-d0f4-4f9885ca4fdd"
      },
      "source": [
        "strat_valid_set"
      ],
      "execution_count": null,
      "outputs": [
        {
          "output_type": "execute_result",
          "data": {
            "text/html": [
              "<div>\n",
              "<style scoped>\n",
              "    .dataframe tbody tr th:only-of-type {\n",
              "        vertical-align: middle;\n",
              "    }\n",
              "\n",
              "    .dataframe tbody tr th {\n",
              "        vertical-align: top;\n",
              "    }\n",
              "\n",
              "    .dataframe thead th {\n",
              "        text-align: right;\n",
              "    }\n",
              "</style>\n",
              "<table border=\"1\" class=\"dataframe\">\n",
              "  <thead>\n",
              "    <tr style=\"text-align: right;\">\n",
              "      <th></th>\n",
              "      <th>Id</th>\n",
              "      <th>Income</th>\n",
              "      <th>Age</th>\n",
              "      <th>Experience</th>\n",
              "      <th>Married/Single</th>\n",
              "      <th>House_Ownership</th>\n",
              "      <th>Car_Ownership</th>\n",
              "      <th>Profession</th>\n",
              "      <th>CITY</th>\n",
              "      <th>STATE</th>\n",
              "      <th>CURRENT_JOB_YRS</th>\n",
              "      <th>CURRENT_HOUSE_YRS</th>\n",
              "      <th>Risk_Flag</th>\n",
              "    </tr>\n",
              "  </thead>\n",
              "  <tbody>\n",
              "    <tr>\n",
              "      <th>73540</th>\n",
              "      <td>73541</td>\n",
              "      <td>1695876</td>\n",
              "      <td>58</td>\n",
              "      <td>6</td>\n",
              "      <td>single</td>\n",
              "      <td>rented</td>\n",
              "      <td>yes</td>\n",
              "      <td>Computer_hardware_engineer</td>\n",
              "      <td>Bhalswa_Jahangir_Pur</td>\n",
              "      <td>Delhi</td>\n",
              "      <td>6</td>\n",
              "      <td>13</td>\n",
              "      <td>0</td>\n",
              "    </tr>\n",
              "    <tr>\n",
              "      <th>106484</th>\n",
              "      <td>106485</td>\n",
              "      <td>3423010</td>\n",
              "      <td>74</td>\n",
              "      <td>3</td>\n",
              "      <td>single</td>\n",
              "      <td>rented</td>\n",
              "      <td>yes</td>\n",
              "      <td>Computer_hardware_engineer</td>\n",
              "      <td>Dehradun</td>\n",
              "      <td>Uttarakhand</td>\n",
              "      <td>3</td>\n",
              "      <td>10</td>\n",
              "      <td>0</td>\n",
              "    </tr>\n",
              "    <tr>\n",
              "      <th>164137</th>\n",
              "      <td>164138</td>\n",
              "      <td>9685641</td>\n",
              "      <td>63</td>\n",
              "      <td>5</td>\n",
              "      <td>single</td>\n",
              "      <td>rented</td>\n",
              "      <td>no</td>\n",
              "      <td>Psychologist</td>\n",
              "      <td>Tadipatri</td>\n",
              "      <td>Andhra_Pradesh</td>\n",
              "      <td>5</td>\n",
              "      <td>12</td>\n",
              "      <td>0</td>\n",
              "    </tr>\n",
              "    <tr>\n",
              "      <th>36524</th>\n",
              "      <td>36525</td>\n",
              "      <td>4806341</td>\n",
              "      <td>79</td>\n",
              "      <td>3</td>\n",
              "      <td>single</td>\n",
              "      <td>rented</td>\n",
              "      <td>no</td>\n",
              "      <td>Computer_operator</td>\n",
              "      <td>Panchkula</td>\n",
              "      <td>Haryana</td>\n",
              "      <td>3</td>\n",
              "      <td>13</td>\n",
              "      <td>0</td>\n",
              "    </tr>\n",
              "    <tr>\n",
              "      <th>233388</th>\n",
              "      <td>233389</td>\n",
              "      <td>195009</td>\n",
              "      <td>79</td>\n",
              "      <td>15</td>\n",
              "      <td>single</td>\n",
              "      <td>rented</td>\n",
              "      <td>yes</td>\n",
              "      <td>Librarian</td>\n",
              "      <td>Morbi</td>\n",
              "      <td>Gujarat</td>\n",
              "      <td>4</td>\n",
              "      <td>14</td>\n",
              "      <td>1</td>\n",
              "    </tr>\n",
              "    <tr>\n",
              "      <th>...</th>\n",
              "      <td>...</td>\n",
              "      <td>...</td>\n",
              "      <td>...</td>\n",
              "      <td>...</td>\n",
              "      <td>...</td>\n",
              "      <td>...</td>\n",
              "      <td>...</td>\n",
              "      <td>...</td>\n",
              "      <td>...</td>\n",
              "      <td>...</td>\n",
              "      <td>...</td>\n",
              "      <td>...</td>\n",
              "      <td>...</td>\n",
              "    </tr>\n",
              "    <tr>\n",
              "      <th>174885</th>\n",
              "      <td>174886</td>\n",
              "      <td>8129321</td>\n",
              "      <td>22</td>\n",
              "      <td>16</td>\n",
              "      <td>single</td>\n",
              "      <td>rented</td>\n",
              "      <td>no</td>\n",
              "      <td>Physician</td>\n",
              "      <td>Thiruvananthapuram</td>\n",
              "      <td>Kerala</td>\n",
              "      <td>13</td>\n",
              "      <td>12</td>\n",
              "      <td>0</td>\n",
              "    </tr>\n",
              "    <tr>\n",
              "      <th>203158</th>\n",
              "      <td>203159</td>\n",
              "      <td>1839079</td>\n",
              "      <td>43</td>\n",
              "      <td>11</td>\n",
              "      <td>married</td>\n",
              "      <td>rented</td>\n",
              "      <td>no</td>\n",
              "      <td>Aviator</td>\n",
              "      <td>Bhubaneswar</td>\n",
              "      <td>Odisha</td>\n",
              "      <td>10</td>\n",
              "      <td>11</td>\n",
              "      <td>0</td>\n",
              "    </tr>\n",
              "    <tr>\n",
              "      <th>234667</th>\n",
              "      <td>234668</td>\n",
              "      <td>2606288</td>\n",
              "      <td>51</td>\n",
              "      <td>6</td>\n",
              "      <td>single</td>\n",
              "      <td>rented</td>\n",
              "      <td>no</td>\n",
              "      <td>Architect</td>\n",
              "      <td>Malegaon</td>\n",
              "      <td>Maharashtra</td>\n",
              "      <td>6</td>\n",
              "      <td>13</td>\n",
              "      <td>0</td>\n",
              "    </tr>\n",
              "    <tr>\n",
              "      <th>30812</th>\n",
              "      <td>30813</td>\n",
              "      <td>78418</td>\n",
              "      <td>35</td>\n",
              "      <td>18</td>\n",
              "      <td>single</td>\n",
              "      <td>rented</td>\n",
              "      <td>no</td>\n",
              "      <td>Air_traffic_controller</td>\n",
              "      <td>Bathinda</td>\n",
              "      <td>Punjab</td>\n",
              "      <td>12</td>\n",
              "      <td>12</td>\n",
              "      <td>0</td>\n",
              "    </tr>\n",
              "    <tr>\n",
              "      <th>33577</th>\n",
              "      <td>33578</td>\n",
              "      <td>5096110</td>\n",
              "      <td>24</td>\n",
              "      <td>18</td>\n",
              "      <td>single</td>\n",
              "      <td>rented</td>\n",
              "      <td>yes</td>\n",
              "      <td>Surgeon</td>\n",
              "      <td>Kishanganj[35]</td>\n",
              "      <td>Bihar</td>\n",
              "      <td>11</td>\n",
              "      <td>12</td>\n",
              "      <td>0</td>\n",
              "    </tr>\n",
              "  </tbody>\n",
              "</table>\n",
              "<p>50400 rows × 13 columns</p>\n",
              "</div>"
            ],
            "text/plain": [
              "            Id   Income  Age  ...  CURRENT_JOB_YRS CURRENT_HOUSE_YRS Risk_Flag\n",
              "73540    73541  1695876   58  ...                6                13         0\n",
              "106484  106485  3423010   74  ...                3                10         0\n",
              "164137  164138  9685641   63  ...                5                12         0\n",
              "36524    36525  4806341   79  ...                3                13         0\n",
              "233388  233389   195009   79  ...                4                14         1\n",
              "...        ...      ...  ...  ...              ...               ...       ...\n",
              "174885  174886  8129321   22  ...               13                12         0\n",
              "203158  203159  1839079   43  ...               10                11         0\n",
              "234667  234668  2606288   51  ...                6                13         0\n",
              "30812    30813    78418   35  ...               12                12         0\n",
              "33577    33578  5096110   24  ...               11                12         0\n",
              "\n",
              "[50400 rows x 13 columns]"
            ]
          },
          "metadata": {},
          "execution_count": 16
        }
      ]
    },
    {
      "cell_type": "code",
      "metadata": {
        "colab": {
          "base_uri": "https://localhost:8080/"
        },
        "id": "ei3Vt80OLkxH",
        "outputId": "7d29265f-a5d2-4939-e854-32aa8fd44ec3"
      },
      "source": [
        "Counter(strat_train_set.Risk_Flag)"
      ],
      "execution_count": null,
      "outputs": [
        {
          "output_type": "execute_result",
          "data": {
            "text/plain": [
              "Counter({0: 176803, 1: 24797})"
            ]
          },
          "metadata": {},
          "execution_count": 17
        }
      ]
    },
    {
      "cell_type": "code",
      "metadata": {
        "colab": {
          "base_uri": "https://localhost:8080/"
        },
        "id": "69KnHoKHKWUM",
        "outputId": "2115a93d-e0c0-4cb8-fce8-4d4c555a5569"
      },
      "source": [
        "Counter(strat_valid_set.Risk_Flag)"
      ],
      "execution_count": null,
      "outputs": [
        {
          "output_type": "execute_result",
          "data": {
            "text/plain": [
              "Counter({0: 44201, 1: 6199})"
            ]
          },
          "metadata": {},
          "execution_count": 18
        }
      ]
    },
    {
      "cell_type": "code",
      "metadata": {
        "colab": {
          "base_uri": "https://localhost:8080/"
        },
        "id": "b8HWLZ9Y0ZBb",
        "outputId": "601b891c-5779-4fb2-ea38-e7d24e737283"
      },
      "source": [
        "strat_train_set.columns"
      ],
      "execution_count": null,
      "outputs": [
        {
          "output_type": "execute_result",
          "data": {
            "text/plain": [
              "Index(['Id', 'Income', 'Age', 'Experience', 'Married/Single',\n",
              "       'House_Ownership', 'Car_Ownership', 'Profession', 'CITY', 'STATE',\n",
              "       'CURRENT_JOB_YRS', 'CURRENT_HOUSE_YRS', 'Risk_Flag'],\n",
              "      dtype='object')"
            ]
          },
          "metadata": {},
          "execution_count": 19
        }
      ]
    },
    {
      "cell_type": "code",
      "metadata": {
        "id": "afJEnl8K1xNt"
      },
      "source": [
        "strat_train_set.drop(['Id', 'Profession', 'CITY', 'STATE'], axis=1, inplace=True)"
      ],
      "execution_count": null,
      "outputs": []
    },
    {
      "cell_type": "code",
      "metadata": {
        "colab": {
          "base_uri": "https://localhost:8080/"
        },
        "id": "Xzg4GdGz2OUy",
        "outputId": "31167d7c-c05e-4f08-8a72-41291564a514"
      },
      "source": [
        "for col in strat_train_set.select_dtypes('object').columns:\n",
        "  print(strat_train_set[col].value_counts())\n",
        "  print()"
      ],
      "execution_count": null,
      "outputs": [
        {
          "output_type": "stream",
          "name": "stdout",
          "text": [
            "single     181079\n",
            "married     20521\n",
            "Name: Married/Single, dtype: int64\n",
            "\n",
            "rented          185484\n",
            "owned            10372\n",
            "norent_noown      5744\n",
            "Name: House_Ownership, dtype: int64\n",
            "\n",
            "no     141131\n",
            "yes     60469\n",
            "Name: Car_Ownership, dtype: int64\n",
            "\n"
          ]
        }
      ]
    },
    {
      "cell_type": "code",
      "metadata": {
        "id": "yFUq4uaDTtCv"
      },
      "source": [
        "X = strat_train_set[strat_train_set.columns.difference(['Risk_Flag'])]\n",
        "y = strat_train_set.Risk_Flag"
      ],
      "execution_count": null,
      "outputs": []
    },
    {
      "cell_type": "code",
      "metadata": {
        "colab": {
          "base_uri": "https://localhost:8080/"
        },
        "id": "QWu7atFFXshs",
        "outputId": "ccbbc105-def6-40ad-c96f-3735258c7996"
      },
      "source": [
        "# instantiating over and under sampler\n",
        "over = RandomOverSampler(sampling_strategy=0.5)\n",
        "under = RandomUnderSampler(sampling_strategy=0.8)\n",
        "\n",
        "# first performing oversampling to minority class\n",
        "X_over, y_over = over.fit_resample(X, y)\n",
        "\n",
        "# now to comine under sampling \n",
        "X_combined_sampling, y_combined_sampling = under.fit_resample(X_over, y_over)\n",
        "\n",
        "print(f\"Combined Random Sampling: {Counter(y_combined_sampling)}\")"
      ],
      "execution_count": null,
      "outputs": [
        {
          "output_type": "stream",
          "name": "stdout",
          "text": [
            "Combined Random Sampling: Counter({0: 110501, 1: 88401})\n"
          ]
        }
      ]
    },
    {
      "cell_type": "code",
      "metadata": {
        "id": "RbL_HASvJXYt"
      },
      "source": [
        "strat_train_set = pd.DataFrame(np.c_[X_combined_sampling, y_combined_sampling], columns=list(X.columns) + ['Risk_Flag'])"
      ],
      "execution_count": null,
      "outputs": []
    },
    {
      "cell_type": "code",
      "metadata": {
        "colab": {
          "base_uri": "https://localhost:8080/",
          "height": 204
        },
        "id": "ffgIsdbvULKp",
        "outputId": "ccbb8e47-bd7e-4722-a26a-8acff3a800f4"
      },
      "source": [
        "strat_train_set.head()"
      ],
      "execution_count": null,
      "outputs": [
        {
          "output_type": "execute_result",
          "data": {
            "text/html": [
              "<div>\n",
              "<style scoped>\n",
              "    .dataframe tbody tr th:only-of-type {\n",
              "        vertical-align: middle;\n",
              "    }\n",
              "\n",
              "    .dataframe tbody tr th {\n",
              "        vertical-align: top;\n",
              "    }\n",
              "\n",
              "    .dataframe thead th {\n",
              "        text-align: right;\n",
              "    }\n",
              "</style>\n",
              "<table border=\"1\" class=\"dataframe\">\n",
              "  <thead>\n",
              "    <tr style=\"text-align: right;\">\n",
              "      <th></th>\n",
              "      <th>Age</th>\n",
              "      <th>CURRENT_HOUSE_YRS</th>\n",
              "      <th>CURRENT_JOB_YRS</th>\n",
              "      <th>Car_Ownership</th>\n",
              "      <th>Experience</th>\n",
              "      <th>House_Ownership</th>\n",
              "      <th>Income</th>\n",
              "      <th>Married/Single</th>\n",
              "      <th>Risk_Flag</th>\n",
              "    </tr>\n",
              "  </thead>\n",
              "  <tbody>\n",
              "    <tr>\n",
              "      <th>0</th>\n",
              "      <td>79</td>\n",
              "      <td>13</td>\n",
              "      <td>3</td>\n",
              "      <td>no</td>\n",
              "      <td>17</td>\n",
              "      <td>rented</td>\n",
              "      <td>8344425</td>\n",
              "      <td>single</td>\n",
              "      <td>0</td>\n",
              "    </tr>\n",
              "    <tr>\n",
              "      <th>1</th>\n",
              "      <td>62</td>\n",
              "      <td>11</td>\n",
              "      <td>3</td>\n",
              "      <td>yes</td>\n",
              "      <td>3</td>\n",
              "      <td>rented</td>\n",
              "      <td>3310900</td>\n",
              "      <td>single</td>\n",
              "      <td>0</td>\n",
              "    </tr>\n",
              "    <tr>\n",
              "      <th>2</th>\n",
              "      <td>76</td>\n",
              "      <td>12</td>\n",
              "      <td>3</td>\n",
              "      <td>no</td>\n",
              "      <td>11</td>\n",
              "      <td>rented</td>\n",
              "      <td>3416887</td>\n",
              "      <td>single</td>\n",
              "      <td>0</td>\n",
              "    </tr>\n",
              "    <tr>\n",
              "      <th>3</th>\n",
              "      <td>22</td>\n",
              "      <td>11</td>\n",
              "      <td>2</td>\n",
              "      <td>no</td>\n",
              "      <td>2</td>\n",
              "      <td>rented</td>\n",
              "      <td>2489299</td>\n",
              "      <td>single</td>\n",
              "      <td>0</td>\n",
              "    </tr>\n",
              "    <tr>\n",
              "      <th>4</th>\n",
              "      <td>25</td>\n",
              "      <td>14</td>\n",
              "      <td>6</td>\n",
              "      <td>yes</td>\n",
              "      <td>12</td>\n",
              "      <td>rented</td>\n",
              "      <td>4614386</td>\n",
              "      <td>single</td>\n",
              "      <td>0</td>\n",
              "    </tr>\n",
              "  </tbody>\n",
              "</table>\n",
              "</div>"
            ],
            "text/plain": [
              "  Age CURRENT_HOUSE_YRS CURRENT_JOB_YRS  ...   Income Married/Single Risk_Flag\n",
              "0  79                13               3  ...  8344425         single         0\n",
              "1  62                11               3  ...  3310900         single         0\n",
              "2  76                12               3  ...  3416887         single         0\n",
              "3  22                11               2  ...  2489299         single         0\n",
              "4  25                14               6  ...  4614386         single         0\n",
              "\n",
              "[5 rows x 9 columns]"
            ]
          },
          "metadata": {},
          "execution_count": 25
        }
      ]
    },
    {
      "cell_type": "code",
      "metadata": {
        "colab": {
          "base_uri": "https://localhost:8080/"
        },
        "id": "CnfXMq2KmCIr",
        "outputId": "ec591e41-31f7-4eca-dad8-ff589ce5cdbb"
      },
      "source": [
        "strat_train_set.info()"
      ],
      "execution_count": null,
      "outputs": [
        {
          "output_type": "stream",
          "name": "stdout",
          "text": [
            "<class 'pandas.core.frame.DataFrame'>\n",
            "RangeIndex: 198902 entries, 0 to 198901\n",
            "Data columns (total 9 columns):\n",
            " #   Column             Non-Null Count   Dtype \n",
            "---  ------             --------------   ----- \n",
            " 0   Age                198902 non-null  object\n",
            " 1   CURRENT_HOUSE_YRS  198902 non-null  object\n",
            " 2   CURRENT_JOB_YRS    198902 non-null  object\n",
            " 3   Car_Ownership      198902 non-null  object\n",
            " 4   Experience         198902 non-null  object\n",
            " 5   House_Ownership    198902 non-null  object\n",
            " 6   Income             198902 non-null  object\n",
            " 7   Married/Single     198902 non-null  object\n",
            " 8   Risk_Flag          198902 non-null  object\n",
            "dtypes: object(9)\n",
            "memory usage: 13.7+ MB\n"
          ]
        }
      ]
    },
    {
      "cell_type": "code",
      "metadata": {
        "id": "39Se1kd1k5al"
      },
      "source": [
        "strat_train_set = strat_train_set.convert_dtypes()"
      ],
      "execution_count": null,
      "outputs": []
    },
    {
      "cell_type": "code",
      "metadata": {
        "colab": {
          "base_uri": "https://localhost:8080/"
        },
        "id": "l_IlvLOdnUe3",
        "outputId": "4f2191c4-0b73-4324-e092-86d65c1a1d69"
      },
      "source": [
        "strat_train_set.info()"
      ],
      "execution_count": null,
      "outputs": [
        {
          "output_type": "stream",
          "name": "stdout",
          "text": [
            "<class 'pandas.core.frame.DataFrame'>\n",
            "RangeIndex: 198902 entries, 0 to 198901\n",
            "Data columns (total 9 columns):\n",
            " #   Column             Non-Null Count   Dtype \n",
            "---  ------             --------------   ----- \n",
            " 0   Age                198902 non-null  Int64 \n",
            " 1   CURRENT_HOUSE_YRS  198902 non-null  Int64 \n",
            " 2   CURRENT_JOB_YRS    198902 non-null  Int64 \n",
            " 3   Car_Ownership      198902 non-null  string\n",
            " 4   Experience         198902 non-null  Int64 \n",
            " 5   House_Ownership    198902 non-null  string\n",
            " 6   Income             198902 non-null  Int64 \n",
            " 7   Married/Single     198902 non-null  string\n",
            " 8   Risk_Flag          198902 non-null  Int64 \n",
            "dtypes: Int64(6), string(3)\n",
            "memory usage: 14.8 MB\n"
          ]
        }
      ]
    },
    {
      "cell_type": "code",
      "metadata": {
        "id": "VQcuzHq_UfyW"
      },
      "source": [
        "# for i, col in enumerate(strat_train_set.select_dtypes(exclude='string').columns):\n",
        "#   sns.set_style(\"darkgrid\")\n",
        "#   sns.set_context(\"notebook\", font_scale=1.5, rc={\"lines.linewidth\": 2.5})\n",
        "#   plt.figure(i, figsize=(8,5))\n",
        "#   _ = sns.histplot(data=strat_train_set[col], shrink=.8)"
      ],
      "execution_count": null,
      "outputs": []
    },
    {
      "cell_type": "code",
      "metadata": {
        "id": "dTqjZ0g7mHOE"
      },
      "source": [
        "# for i, col in enumerate(strat_train_set.select_dtypes(exclude='string').columns.difference(['Income'])):\n",
        "#   sns.set_style(\"darkgrid\")\n",
        "#   sns.set_context(\"notebook\", font_scale=1.5, rc={\"lines.linewidth\": 2.5})\n",
        "#   plt.figure(i, figsize=(8,5))\n",
        "#   _ = sns.scatterplot(data=strat_train_set, x=col, y='Income', hue='Risk_Flag', alpha=0.4)"
      ],
      "execution_count": null,
      "outputs": []
    },
    {
      "cell_type": "code",
      "metadata": {
        "colab": {
          "base_uri": "https://localhost:8080/",
          "height": 204
        },
        "id": "sAfCx8YYq3yI",
        "outputId": "bc9083f0-8f0e-4cb2-c348-9557ff268948"
      },
      "source": [
        "strat_train_set.head()"
      ],
      "execution_count": null,
      "outputs": [
        {
          "output_type": "execute_result",
          "data": {
            "text/html": [
              "<div>\n",
              "<style scoped>\n",
              "    .dataframe tbody tr th:only-of-type {\n",
              "        vertical-align: middle;\n",
              "    }\n",
              "\n",
              "    .dataframe tbody tr th {\n",
              "        vertical-align: top;\n",
              "    }\n",
              "\n",
              "    .dataframe thead th {\n",
              "        text-align: right;\n",
              "    }\n",
              "</style>\n",
              "<table border=\"1\" class=\"dataframe\">\n",
              "  <thead>\n",
              "    <tr style=\"text-align: right;\">\n",
              "      <th></th>\n",
              "      <th>Age</th>\n",
              "      <th>CURRENT_HOUSE_YRS</th>\n",
              "      <th>CURRENT_JOB_YRS</th>\n",
              "      <th>Car_Ownership</th>\n",
              "      <th>Experience</th>\n",
              "      <th>House_Ownership</th>\n",
              "      <th>Income</th>\n",
              "      <th>Married/Single</th>\n",
              "      <th>Risk_Flag</th>\n",
              "    </tr>\n",
              "  </thead>\n",
              "  <tbody>\n",
              "    <tr>\n",
              "      <th>0</th>\n",
              "      <td>79</td>\n",
              "      <td>13</td>\n",
              "      <td>3</td>\n",
              "      <td>no</td>\n",
              "      <td>17</td>\n",
              "      <td>rented</td>\n",
              "      <td>8344425</td>\n",
              "      <td>single</td>\n",
              "      <td>0</td>\n",
              "    </tr>\n",
              "    <tr>\n",
              "      <th>1</th>\n",
              "      <td>62</td>\n",
              "      <td>11</td>\n",
              "      <td>3</td>\n",
              "      <td>yes</td>\n",
              "      <td>3</td>\n",
              "      <td>rented</td>\n",
              "      <td>3310900</td>\n",
              "      <td>single</td>\n",
              "      <td>0</td>\n",
              "    </tr>\n",
              "    <tr>\n",
              "      <th>2</th>\n",
              "      <td>76</td>\n",
              "      <td>12</td>\n",
              "      <td>3</td>\n",
              "      <td>no</td>\n",
              "      <td>11</td>\n",
              "      <td>rented</td>\n",
              "      <td>3416887</td>\n",
              "      <td>single</td>\n",
              "      <td>0</td>\n",
              "    </tr>\n",
              "    <tr>\n",
              "      <th>3</th>\n",
              "      <td>22</td>\n",
              "      <td>11</td>\n",
              "      <td>2</td>\n",
              "      <td>no</td>\n",
              "      <td>2</td>\n",
              "      <td>rented</td>\n",
              "      <td>2489299</td>\n",
              "      <td>single</td>\n",
              "      <td>0</td>\n",
              "    </tr>\n",
              "    <tr>\n",
              "      <th>4</th>\n",
              "      <td>25</td>\n",
              "      <td>14</td>\n",
              "      <td>6</td>\n",
              "      <td>yes</td>\n",
              "      <td>12</td>\n",
              "      <td>rented</td>\n",
              "      <td>4614386</td>\n",
              "      <td>single</td>\n",
              "      <td>0</td>\n",
              "    </tr>\n",
              "  </tbody>\n",
              "</table>\n",
              "</div>"
            ],
            "text/plain": [
              "   Age  CURRENT_HOUSE_YRS  CURRENT_JOB_YRS  ...   Income  Married/Single Risk_Flag\n",
              "0   79                 13                3  ...  8344425          single         0\n",
              "1   62                 11                3  ...  3310900          single         0\n",
              "2   76                 12                3  ...  3416887          single         0\n",
              "3   22                 11                2  ...  2489299          single         0\n",
              "4   25                 14                6  ...  4614386          single         0\n",
              "\n",
              "[5 rows x 9 columns]"
            ]
          },
          "metadata": {},
          "execution_count": 31
        }
      ]
    },
    {
      "cell_type": "code",
      "metadata": {
        "id": "VZQIl5GSPX9o"
      },
      "source": [
        "# # scaling dataset now just for better visualization\n",
        "# temp_scaler = StandardScaler()\n",
        "# scaled_df = pd.DataFrame(temp_scaler.fit_transform(strat_train_set.copy().select_dtypes(exclude='string')), columns=strat_train_set.select_dtypes(exclude='string').columns)\n",
        "\n",
        "\n",
        "# plt.figure(figsize=(15,9))\n",
        "# _ = sns.boxplot(data=scaled_df, width=0.5, orient='h')\n",
        "# plt.xticks(rotation=90)\n",
        "# plt.show()"
      ],
      "execution_count": null,
      "outputs": []
    },
    {
      "cell_type": "code",
      "metadata": {
        "colab": {
          "base_uri": "https://localhost:8080/"
        },
        "id": "Ler79oQV6W0f",
        "outputId": "5029dce5-c5a9-4e6e-9852-f7795a2733a4"
      },
      "source": [
        "np.sum(strat_train_set['CURRENT_JOB_YRS'] > strat_train_set['Experience'])"
      ],
      "execution_count": null,
      "outputs": [
        {
          "output_type": "execute_result",
          "data": {
            "text/plain": [
              "0"
            ]
          },
          "metadata": {},
          "execution_count": 33
        }
      ]
    },
    {
      "cell_type": "code",
      "metadata": {
        "colab": {
          "base_uri": "https://localhost:8080/"
        },
        "id": "tqtyXSE57aXa",
        "outputId": "a1085406-2c2b-43f8-97f1-e58e711ec2f7"
      },
      "source": [
        "np.sum(strat_train_set['CURRENT_JOB_YRS'] > strat_train_set['Age'])"
      ],
      "execution_count": null,
      "outputs": [
        {
          "output_type": "execute_result",
          "data": {
            "text/plain": [
              "0"
            ]
          },
          "metadata": {},
          "execution_count": 34
        }
      ]
    },
    {
      "cell_type": "code",
      "metadata": {
        "colab": {
          "base_uri": "https://localhost:8080/"
        },
        "id": "Vd9RXGZlCdtm",
        "outputId": "c79c061b-8730-4092-80a4-b84a582a76dc"
      },
      "source": [
        "np.sum(strat_train_set['CURRENT_HOUSE_YRS'] > strat_train_set['Age'])"
      ],
      "execution_count": null,
      "outputs": [
        {
          "output_type": "execute_result",
          "data": {
            "text/plain": [
              "0"
            ]
          },
          "metadata": {},
          "execution_count": 35
        }
      ]
    },
    {
      "cell_type": "code",
      "metadata": {
        "colab": {
          "base_uri": "https://localhost:8080/"
        },
        "id": "jKEMLYf27voW",
        "outputId": "2cddf1d1-1a99-46af-ac64-360a961bd274"
      },
      "source": [
        "np.sum(strat_train_set['Experience'] > strat_train_set['Age'])"
      ],
      "execution_count": null,
      "outputs": [
        {
          "output_type": "execute_result",
          "data": {
            "text/plain": [
              "0"
            ]
          },
          "metadata": {},
          "execution_count": 36
        }
      ]
    },
    {
      "cell_type": "code",
      "metadata": {
        "colab": {
          "base_uri": "https://localhost:8080/"
        },
        "id": "CbjoR9hW9sQ9",
        "outputId": "66fd578a-2f36-4e60-d6c5-ac724170d58a"
      },
      "source": [
        "np.sum((strat_train_set['Age'] - strat_train_set['Experience']) < 14)"
      ],
      "execution_count": null,
      "outputs": [
        {
          "output_type": "execute_result",
          "data": {
            "text/plain": [
              "15632"
            ]
          },
          "metadata": {},
          "execution_count": 37
        }
      ]
    },
    {
      "cell_type": "code",
      "metadata": {
        "colab": {
          "base_uri": "https://localhost:8080/"
        },
        "id": "DoHpjFD2-ged",
        "outputId": "716304d4-8b1e-4ae0-9fac-0cc40296ab63"
      },
      "source": [
        "len(strat_train_set)"
      ],
      "execution_count": null,
      "outputs": [
        {
          "output_type": "execute_result",
          "data": {
            "text/plain": [
              "198902"
            ]
          },
          "metadata": {},
          "execution_count": 38
        }
      ]
    },
    {
      "cell_type": "code",
      "metadata": {
        "colab": {
          "base_uri": "https://localhost:8080/"
        },
        "id": "ECBSoXN1Auzq",
        "outputId": "4e2d3c59-6773-4754-e1b4-febda77fc3c9"
      },
      "source": [
        "198902 - 15501"
      ],
      "execution_count": null,
      "outputs": [
        {
          "output_type": "execute_result",
          "data": {
            "text/plain": [
              "183401"
            ]
          },
          "metadata": {},
          "execution_count": 39
        }
      ]
    },
    {
      "cell_type": "code",
      "metadata": {
        "colab": {
          "base_uri": "https://localhost:8080/"
        },
        "id": "xooGh5YtAz7U",
        "outputId": "acdcd47e-96b3-4f76-9555-55d4434e919a"
      },
      "source": [
        "strat_train_set.drop(strat_train_set[(strat_train_set['Age'] - strat_train_set['Experience']) < 14].index, inplace=True)\n",
        "\n",
        "len(strat_train_set)"
      ],
      "execution_count": null,
      "outputs": [
        {
          "output_type": "execute_result",
          "data": {
            "text/plain": [
              "183270"
            ]
          },
          "metadata": {},
          "execution_count": 40
        }
      ]
    },
    {
      "cell_type": "code",
      "metadata": {
        "id": "eIUEnvxdV1kh"
      },
      "source": [
        "# strat_train_set[\"Income_cats\"] = pd.cut(strat_train_set[\"Income\"],\n",
        "# bins=np.array([0., .25, .5, .75, 1.])*1e7,\n",
        "# labels=['income_low', 'income_avg', 'income_high', 'income_very_high']).astype('string')"
      ],
      "execution_count": null,
      "outputs": []
    },
    {
      "cell_type": "code",
      "metadata": {
        "id": "1Vv968AQB9bK"
      },
      "source": [
        "def age(row):\n",
        "    if row['Age'] >= 19 and row['Age'] < 30:\n",
        "        val = 'age_cat_one'\n",
        "    elif row['Age'] >= 30 and row['Age'] < 45:\n",
        "        val = 'age_cat_two'\n",
        "    elif row['Age'] >= 45 and row['Age'] < 65:\n",
        "        val = 'age_cat_three'\n",
        "    else:\n",
        "        val = 'age_cat_four'\n",
        "    \n",
        "    return val\n",
        "\n",
        "########################################################\n",
        "\n",
        "def exp(row):\n",
        "    if row['Experience'] <= 5:\n",
        "        val = 'exp_cat_one'\n",
        "    elif row['Experience'] >= 6 and row['Experience'] <= 10:\n",
        "        val = 'exp_cat_two'\n",
        "    elif row['Experience'] >= 11 and row['Experience'] <= 15:\n",
        "        val = 'exp_cat_three'\n",
        "    else:\n",
        "        val = 'exp_cat_four'\n",
        "    \n",
        "    return val"
      ],
      "execution_count": null,
      "outputs": []
    },
    {
      "cell_type": "code",
      "metadata": {
        "id": "C4WiNTxVG9Oa"
      },
      "source": [
        "strat_train_set['Age_cats'] = strat_train_set.apply(age, axis=1)\n",
        "strat_train_set['Exp_cats'] = strat_train_set.apply(exp, axis=1)"
      ],
      "execution_count": null,
      "outputs": []
    },
    {
      "cell_type": "code",
      "metadata": {
        "colab": {
          "base_uri": "https://localhost:8080/",
          "height": 204
        },
        "id": "ft6P3nRjHQnU",
        "outputId": "3deaede0-03f3-4a63-f3ae-58687fc2ec9e"
      },
      "source": [
        "strat_train_set.head()"
      ],
      "execution_count": null,
      "outputs": [
        {
          "output_type": "execute_result",
          "data": {
            "text/html": [
              "<div>\n",
              "<style scoped>\n",
              "    .dataframe tbody tr th:only-of-type {\n",
              "        vertical-align: middle;\n",
              "    }\n",
              "\n",
              "    .dataframe tbody tr th {\n",
              "        vertical-align: top;\n",
              "    }\n",
              "\n",
              "    .dataframe thead th {\n",
              "        text-align: right;\n",
              "    }\n",
              "</style>\n",
              "<table border=\"1\" class=\"dataframe\">\n",
              "  <thead>\n",
              "    <tr style=\"text-align: right;\">\n",
              "      <th></th>\n",
              "      <th>Age</th>\n",
              "      <th>CURRENT_HOUSE_YRS</th>\n",
              "      <th>CURRENT_JOB_YRS</th>\n",
              "      <th>Car_Ownership</th>\n",
              "      <th>Experience</th>\n",
              "      <th>House_Ownership</th>\n",
              "      <th>Income</th>\n",
              "      <th>Married/Single</th>\n",
              "      <th>Risk_Flag</th>\n",
              "      <th>Age_cats</th>\n",
              "      <th>Exp_cats</th>\n",
              "    </tr>\n",
              "  </thead>\n",
              "  <tbody>\n",
              "    <tr>\n",
              "      <th>0</th>\n",
              "      <td>79</td>\n",
              "      <td>13</td>\n",
              "      <td>3</td>\n",
              "      <td>no</td>\n",
              "      <td>17</td>\n",
              "      <td>rented</td>\n",
              "      <td>8344425</td>\n",
              "      <td>single</td>\n",
              "      <td>0</td>\n",
              "      <td>age_cat_four</td>\n",
              "      <td>exp_cat_four</td>\n",
              "    </tr>\n",
              "    <tr>\n",
              "      <th>1</th>\n",
              "      <td>62</td>\n",
              "      <td>11</td>\n",
              "      <td>3</td>\n",
              "      <td>yes</td>\n",
              "      <td>3</td>\n",
              "      <td>rented</td>\n",
              "      <td>3310900</td>\n",
              "      <td>single</td>\n",
              "      <td>0</td>\n",
              "      <td>age_cat_three</td>\n",
              "      <td>exp_cat_one</td>\n",
              "    </tr>\n",
              "    <tr>\n",
              "      <th>2</th>\n",
              "      <td>76</td>\n",
              "      <td>12</td>\n",
              "      <td>3</td>\n",
              "      <td>no</td>\n",
              "      <td>11</td>\n",
              "      <td>rented</td>\n",
              "      <td>3416887</td>\n",
              "      <td>single</td>\n",
              "      <td>0</td>\n",
              "      <td>age_cat_four</td>\n",
              "      <td>exp_cat_three</td>\n",
              "    </tr>\n",
              "    <tr>\n",
              "      <th>3</th>\n",
              "      <td>22</td>\n",
              "      <td>11</td>\n",
              "      <td>2</td>\n",
              "      <td>no</td>\n",
              "      <td>2</td>\n",
              "      <td>rented</td>\n",
              "      <td>2489299</td>\n",
              "      <td>single</td>\n",
              "      <td>0</td>\n",
              "      <td>age_cat_one</td>\n",
              "      <td>exp_cat_one</td>\n",
              "    </tr>\n",
              "    <tr>\n",
              "      <th>5</th>\n",
              "      <td>66</td>\n",
              "      <td>13</td>\n",
              "      <td>0</td>\n",
              "      <td>no</td>\n",
              "      <td>0</td>\n",
              "      <td>rented</td>\n",
              "      <td>204151</td>\n",
              "      <td>single</td>\n",
              "      <td>0</td>\n",
              "      <td>age_cat_four</td>\n",
              "      <td>exp_cat_one</td>\n",
              "    </tr>\n",
              "  </tbody>\n",
              "</table>\n",
              "</div>"
            ],
            "text/plain": [
              "   Age  CURRENT_HOUSE_YRS  ...       Age_cats       Exp_cats\n",
              "0   79                 13  ...   age_cat_four   exp_cat_four\n",
              "1   62                 11  ...  age_cat_three    exp_cat_one\n",
              "2   76                 12  ...   age_cat_four  exp_cat_three\n",
              "3   22                 11  ...    age_cat_one    exp_cat_one\n",
              "5   66                 13  ...   age_cat_four    exp_cat_one\n",
              "\n",
              "[5 rows x 11 columns]"
            ]
          },
          "metadata": {},
          "execution_count": 44
        }
      ]
    },
    {
      "cell_type": "code",
      "metadata": {
        "id": "P9HidnwDXtTs"
      },
      "source": [
        "# strat_train_set.Income_cats.value_counts()"
      ],
      "execution_count": null,
      "outputs": []
    },
    {
      "cell_type": "code",
      "metadata": {
        "id": "wKboH-XeHV9j"
      },
      "source": [
        "strat_train_set = strat_train_set.convert_dtypes()"
      ],
      "execution_count": null,
      "outputs": []
    },
    {
      "cell_type": "code",
      "metadata": {
        "colab": {
          "base_uri": "https://localhost:8080/"
        },
        "id": "3YeNXkyZIqJ4",
        "outputId": "9baec8aa-1e8c-49ee-a9a9-b9057b42b8cd"
      },
      "source": [
        "strat_train_set.info()"
      ],
      "execution_count": null,
      "outputs": [
        {
          "output_type": "stream",
          "name": "stdout",
          "text": [
            "<class 'pandas.core.frame.DataFrame'>\n",
            "Int64Index: 183270 entries, 0 to 198901\n",
            "Data columns (total 11 columns):\n",
            " #   Column             Non-Null Count   Dtype \n",
            "---  ------             --------------   ----- \n",
            " 0   Age                183270 non-null  Int64 \n",
            " 1   CURRENT_HOUSE_YRS  183270 non-null  Int64 \n",
            " 2   CURRENT_JOB_YRS    183270 non-null  Int64 \n",
            " 3   Car_Ownership      183270 non-null  string\n",
            " 4   Experience         183270 non-null  Int64 \n",
            " 5   House_Ownership    183270 non-null  string\n",
            " 6   Income             183270 non-null  Int64 \n",
            " 7   Married/Single     183270 non-null  string\n",
            " 8   Risk_Flag          183270 non-null  Int64 \n",
            " 9   Age_cats           183270 non-null  string\n",
            " 10  Exp_cats           183270 non-null  string\n",
            "dtypes: Int64(6), string(5)\n",
            "memory usage: 17.8 MB\n"
          ]
        }
      ]
    },
    {
      "cell_type": "code",
      "metadata": {
        "id": "31az2SCXIxbQ"
      },
      "source": [
        "strat_train_set_cats = strat_train_set.select_dtypes('string')"
      ],
      "execution_count": null,
      "outputs": []
    },
    {
      "cell_type": "code",
      "metadata": {
        "id": "t-5GVm6dI1iE"
      },
      "source": [
        "cat_encoder = OneHotEncoder()\n",
        "strat_train_set_cats_1hot = cat_encoder.fit_transform(strat_train_set_cats)"
      ],
      "execution_count": null,
      "outputs": []
    },
    {
      "cell_type": "code",
      "metadata": {
        "colab": {
          "base_uri": "https://localhost:8080/"
        },
        "id": "XFr9cuIRJlKi",
        "outputId": "66d132a8-fca8-4675-9148-896b408b1308"
      },
      "source": [
        "cat_encoder.get_feature_names()"
      ],
      "execution_count": null,
      "outputs": [
        {
          "output_type": "execute_result",
          "data": {
            "text/plain": [
              "array(['x0_no', 'x0_yes', 'x1_norent_noown', 'x1_owned', 'x1_rented',\n",
              "       'x2_married', 'x2_single', 'x3_age_cat_four', 'x3_age_cat_one',\n",
              "       'x3_age_cat_three', 'x3_age_cat_two', 'x4_exp_cat_four',\n",
              "       'x4_exp_cat_one', 'x4_exp_cat_three', 'x4_exp_cat_two'],\n",
              "      dtype=object)"
            ]
          },
          "metadata": {},
          "execution_count": 50
        }
      ]
    },
    {
      "cell_type": "code",
      "metadata": {
        "id": "m8emvXsiJLhG"
      },
      "source": [
        "strat_train_set_cats_1hot = pd.DataFrame(strat_train_set_cats_1hot.toarray(), columns=cat_encoder.get_feature_names()).convert_dtypes()"
      ],
      "execution_count": null,
      "outputs": []
    },
    {
      "cell_type": "code",
      "metadata": {
        "colab": {
          "base_uri": "https://localhost:8080/",
          "height": 224
        },
        "id": "epqsDyAlJMKD",
        "outputId": "b2803fcf-8756-4037-a7d7-13034823a7ba"
      },
      "source": [
        "strat_train_set_cats_1hot.head()"
      ],
      "execution_count": null,
      "outputs": [
        {
          "output_type": "execute_result",
          "data": {
            "text/html": [
              "<div>\n",
              "<style scoped>\n",
              "    .dataframe tbody tr th:only-of-type {\n",
              "        vertical-align: middle;\n",
              "    }\n",
              "\n",
              "    .dataframe tbody tr th {\n",
              "        vertical-align: top;\n",
              "    }\n",
              "\n",
              "    .dataframe thead th {\n",
              "        text-align: right;\n",
              "    }\n",
              "</style>\n",
              "<table border=\"1\" class=\"dataframe\">\n",
              "  <thead>\n",
              "    <tr style=\"text-align: right;\">\n",
              "      <th></th>\n",
              "      <th>x0_no</th>\n",
              "      <th>x0_yes</th>\n",
              "      <th>x1_norent_noown</th>\n",
              "      <th>x1_owned</th>\n",
              "      <th>x1_rented</th>\n",
              "      <th>x2_married</th>\n",
              "      <th>x2_single</th>\n",
              "      <th>x3_age_cat_four</th>\n",
              "      <th>x3_age_cat_one</th>\n",
              "      <th>x3_age_cat_three</th>\n",
              "      <th>x3_age_cat_two</th>\n",
              "      <th>x4_exp_cat_four</th>\n",
              "      <th>x4_exp_cat_one</th>\n",
              "      <th>x4_exp_cat_three</th>\n",
              "      <th>x4_exp_cat_two</th>\n",
              "    </tr>\n",
              "  </thead>\n",
              "  <tbody>\n",
              "    <tr>\n",
              "      <th>0</th>\n",
              "      <td>1</td>\n",
              "      <td>0</td>\n",
              "      <td>0</td>\n",
              "      <td>0</td>\n",
              "      <td>1</td>\n",
              "      <td>0</td>\n",
              "      <td>1</td>\n",
              "      <td>1</td>\n",
              "      <td>0</td>\n",
              "      <td>0</td>\n",
              "      <td>0</td>\n",
              "      <td>1</td>\n",
              "      <td>0</td>\n",
              "      <td>0</td>\n",
              "      <td>0</td>\n",
              "    </tr>\n",
              "    <tr>\n",
              "      <th>1</th>\n",
              "      <td>0</td>\n",
              "      <td>1</td>\n",
              "      <td>0</td>\n",
              "      <td>0</td>\n",
              "      <td>1</td>\n",
              "      <td>0</td>\n",
              "      <td>1</td>\n",
              "      <td>0</td>\n",
              "      <td>0</td>\n",
              "      <td>1</td>\n",
              "      <td>0</td>\n",
              "      <td>0</td>\n",
              "      <td>1</td>\n",
              "      <td>0</td>\n",
              "      <td>0</td>\n",
              "    </tr>\n",
              "    <tr>\n",
              "      <th>2</th>\n",
              "      <td>1</td>\n",
              "      <td>0</td>\n",
              "      <td>0</td>\n",
              "      <td>0</td>\n",
              "      <td>1</td>\n",
              "      <td>0</td>\n",
              "      <td>1</td>\n",
              "      <td>1</td>\n",
              "      <td>0</td>\n",
              "      <td>0</td>\n",
              "      <td>0</td>\n",
              "      <td>0</td>\n",
              "      <td>0</td>\n",
              "      <td>1</td>\n",
              "      <td>0</td>\n",
              "    </tr>\n",
              "    <tr>\n",
              "      <th>3</th>\n",
              "      <td>1</td>\n",
              "      <td>0</td>\n",
              "      <td>0</td>\n",
              "      <td>0</td>\n",
              "      <td>1</td>\n",
              "      <td>0</td>\n",
              "      <td>1</td>\n",
              "      <td>0</td>\n",
              "      <td>1</td>\n",
              "      <td>0</td>\n",
              "      <td>0</td>\n",
              "      <td>0</td>\n",
              "      <td>1</td>\n",
              "      <td>0</td>\n",
              "      <td>0</td>\n",
              "    </tr>\n",
              "    <tr>\n",
              "      <th>4</th>\n",
              "      <td>1</td>\n",
              "      <td>0</td>\n",
              "      <td>0</td>\n",
              "      <td>0</td>\n",
              "      <td>1</td>\n",
              "      <td>0</td>\n",
              "      <td>1</td>\n",
              "      <td>1</td>\n",
              "      <td>0</td>\n",
              "      <td>0</td>\n",
              "      <td>0</td>\n",
              "      <td>0</td>\n",
              "      <td>1</td>\n",
              "      <td>0</td>\n",
              "      <td>0</td>\n",
              "    </tr>\n",
              "  </tbody>\n",
              "</table>\n",
              "</div>"
            ],
            "text/plain": [
              "   x0_no  x0_yes  ...  x4_exp_cat_three  x4_exp_cat_two\n",
              "0      1       0  ...                 0               0\n",
              "1      0       1  ...                 0               0\n",
              "2      1       0  ...                 1               0\n",
              "3      1       0  ...                 0               0\n",
              "4      1       0  ...                 0               0\n",
              "\n",
              "[5 rows x 15 columns]"
            ]
          },
          "metadata": {},
          "execution_count": 52
        }
      ]
    },
    {
      "cell_type": "code",
      "metadata": {
        "id": "sLW6hgctLNKe"
      },
      "source": [
        "strat_train_set_cats_1hot.drop(['x0_no', 'x2_married'], inplace=True, axis=1)"
      ],
      "execution_count": null,
      "outputs": []
    },
    {
      "cell_type": "code",
      "metadata": {
        "colab": {
          "base_uri": "https://localhost:8080/",
          "height": 224
        },
        "id": "vLvRVof8MCN-",
        "outputId": "aa7871da-4061-4a6a-8faf-60482b41a0b5"
      },
      "source": [
        "strat_train_set_cats_1hot.head()"
      ],
      "execution_count": null,
      "outputs": [
        {
          "output_type": "execute_result",
          "data": {
            "text/html": [
              "<div>\n",
              "<style scoped>\n",
              "    .dataframe tbody tr th:only-of-type {\n",
              "        vertical-align: middle;\n",
              "    }\n",
              "\n",
              "    .dataframe tbody tr th {\n",
              "        vertical-align: top;\n",
              "    }\n",
              "\n",
              "    .dataframe thead th {\n",
              "        text-align: right;\n",
              "    }\n",
              "</style>\n",
              "<table border=\"1\" class=\"dataframe\">\n",
              "  <thead>\n",
              "    <tr style=\"text-align: right;\">\n",
              "      <th></th>\n",
              "      <th>x0_yes</th>\n",
              "      <th>x1_norent_noown</th>\n",
              "      <th>x1_owned</th>\n",
              "      <th>x1_rented</th>\n",
              "      <th>x2_single</th>\n",
              "      <th>x3_age_cat_four</th>\n",
              "      <th>x3_age_cat_one</th>\n",
              "      <th>x3_age_cat_three</th>\n",
              "      <th>x3_age_cat_two</th>\n",
              "      <th>x4_exp_cat_four</th>\n",
              "      <th>x4_exp_cat_one</th>\n",
              "      <th>x4_exp_cat_three</th>\n",
              "      <th>x4_exp_cat_two</th>\n",
              "    </tr>\n",
              "  </thead>\n",
              "  <tbody>\n",
              "    <tr>\n",
              "      <th>0</th>\n",
              "      <td>0</td>\n",
              "      <td>0</td>\n",
              "      <td>0</td>\n",
              "      <td>1</td>\n",
              "      <td>1</td>\n",
              "      <td>1</td>\n",
              "      <td>0</td>\n",
              "      <td>0</td>\n",
              "      <td>0</td>\n",
              "      <td>1</td>\n",
              "      <td>0</td>\n",
              "      <td>0</td>\n",
              "      <td>0</td>\n",
              "    </tr>\n",
              "    <tr>\n",
              "      <th>1</th>\n",
              "      <td>1</td>\n",
              "      <td>0</td>\n",
              "      <td>0</td>\n",
              "      <td>1</td>\n",
              "      <td>1</td>\n",
              "      <td>0</td>\n",
              "      <td>0</td>\n",
              "      <td>1</td>\n",
              "      <td>0</td>\n",
              "      <td>0</td>\n",
              "      <td>1</td>\n",
              "      <td>0</td>\n",
              "      <td>0</td>\n",
              "    </tr>\n",
              "    <tr>\n",
              "      <th>2</th>\n",
              "      <td>0</td>\n",
              "      <td>0</td>\n",
              "      <td>0</td>\n",
              "      <td>1</td>\n",
              "      <td>1</td>\n",
              "      <td>1</td>\n",
              "      <td>0</td>\n",
              "      <td>0</td>\n",
              "      <td>0</td>\n",
              "      <td>0</td>\n",
              "      <td>0</td>\n",
              "      <td>1</td>\n",
              "      <td>0</td>\n",
              "    </tr>\n",
              "    <tr>\n",
              "      <th>3</th>\n",
              "      <td>0</td>\n",
              "      <td>0</td>\n",
              "      <td>0</td>\n",
              "      <td>1</td>\n",
              "      <td>1</td>\n",
              "      <td>0</td>\n",
              "      <td>1</td>\n",
              "      <td>0</td>\n",
              "      <td>0</td>\n",
              "      <td>0</td>\n",
              "      <td>1</td>\n",
              "      <td>0</td>\n",
              "      <td>0</td>\n",
              "    </tr>\n",
              "    <tr>\n",
              "      <th>4</th>\n",
              "      <td>0</td>\n",
              "      <td>0</td>\n",
              "      <td>0</td>\n",
              "      <td>1</td>\n",
              "      <td>1</td>\n",
              "      <td>1</td>\n",
              "      <td>0</td>\n",
              "      <td>0</td>\n",
              "      <td>0</td>\n",
              "      <td>0</td>\n",
              "      <td>1</td>\n",
              "      <td>0</td>\n",
              "      <td>0</td>\n",
              "    </tr>\n",
              "  </tbody>\n",
              "</table>\n",
              "</div>"
            ],
            "text/plain": [
              "   x0_yes  x1_norent_noown  ...  x4_exp_cat_three  x4_exp_cat_two\n",
              "0       0                0  ...                 0               0\n",
              "1       1                0  ...                 0               0\n",
              "2       0                0  ...                 1               0\n",
              "3       0                0  ...                 0               0\n",
              "4       0                0  ...                 0               0\n",
              "\n",
              "[5 rows x 13 columns]"
            ]
          },
          "metadata": {},
          "execution_count": 54
        }
      ]
    },
    {
      "cell_type": "code",
      "metadata": {
        "id": "5NOFsAVkMFnU"
      },
      "source": [
        "strat_train_set.drop(strat_train_set_cats.columns, axis=1, inplace=True)"
      ],
      "execution_count": null,
      "outputs": []
    },
    {
      "cell_type": "code",
      "metadata": {
        "id": "5HVS0wGANSYw"
      },
      "source": [
        "strat_train_set = pd.DataFrame(np.c_[strat_train_set, strat_train_set_cats_1hot], columns=list(strat_train_set.columns) + list(strat_train_set_cats_1hot.columns))"
      ],
      "execution_count": null,
      "outputs": []
    },
    {
      "cell_type": "code",
      "metadata": {
        "colab": {
          "base_uri": "https://localhost:8080/",
          "height": 224
        },
        "id": "25Y4l6QZNetA",
        "outputId": "e8e89ce2-ec8f-483d-d2a8-9b9294f8c092"
      },
      "source": [
        "strat_train_set.head()"
      ],
      "execution_count": null,
      "outputs": [
        {
          "output_type": "execute_result",
          "data": {
            "text/html": [
              "<div>\n",
              "<style scoped>\n",
              "    .dataframe tbody tr th:only-of-type {\n",
              "        vertical-align: middle;\n",
              "    }\n",
              "\n",
              "    .dataframe tbody tr th {\n",
              "        vertical-align: top;\n",
              "    }\n",
              "\n",
              "    .dataframe thead th {\n",
              "        text-align: right;\n",
              "    }\n",
              "</style>\n",
              "<table border=\"1\" class=\"dataframe\">\n",
              "  <thead>\n",
              "    <tr style=\"text-align: right;\">\n",
              "      <th></th>\n",
              "      <th>Age</th>\n",
              "      <th>CURRENT_HOUSE_YRS</th>\n",
              "      <th>CURRENT_JOB_YRS</th>\n",
              "      <th>Experience</th>\n",
              "      <th>Income</th>\n",
              "      <th>Risk_Flag</th>\n",
              "      <th>x0_yes</th>\n",
              "      <th>x1_norent_noown</th>\n",
              "      <th>x1_owned</th>\n",
              "      <th>x1_rented</th>\n",
              "      <th>x2_single</th>\n",
              "      <th>x3_age_cat_four</th>\n",
              "      <th>x3_age_cat_one</th>\n",
              "      <th>x3_age_cat_three</th>\n",
              "      <th>x3_age_cat_two</th>\n",
              "      <th>x4_exp_cat_four</th>\n",
              "      <th>x4_exp_cat_one</th>\n",
              "      <th>x4_exp_cat_three</th>\n",
              "      <th>x4_exp_cat_two</th>\n",
              "    </tr>\n",
              "  </thead>\n",
              "  <tbody>\n",
              "    <tr>\n",
              "      <th>0</th>\n",
              "      <td>79</td>\n",
              "      <td>13</td>\n",
              "      <td>3</td>\n",
              "      <td>17</td>\n",
              "      <td>8344425</td>\n",
              "      <td>0</td>\n",
              "      <td>0</td>\n",
              "      <td>0</td>\n",
              "      <td>0</td>\n",
              "      <td>1</td>\n",
              "      <td>1</td>\n",
              "      <td>1</td>\n",
              "      <td>0</td>\n",
              "      <td>0</td>\n",
              "      <td>0</td>\n",
              "      <td>1</td>\n",
              "      <td>0</td>\n",
              "      <td>0</td>\n",
              "      <td>0</td>\n",
              "    </tr>\n",
              "    <tr>\n",
              "      <th>1</th>\n",
              "      <td>62</td>\n",
              "      <td>11</td>\n",
              "      <td>3</td>\n",
              "      <td>3</td>\n",
              "      <td>3310900</td>\n",
              "      <td>0</td>\n",
              "      <td>1</td>\n",
              "      <td>0</td>\n",
              "      <td>0</td>\n",
              "      <td>1</td>\n",
              "      <td>1</td>\n",
              "      <td>0</td>\n",
              "      <td>0</td>\n",
              "      <td>1</td>\n",
              "      <td>0</td>\n",
              "      <td>0</td>\n",
              "      <td>1</td>\n",
              "      <td>0</td>\n",
              "      <td>0</td>\n",
              "    </tr>\n",
              "    <tr>\n",
              "      <th>2</th>\n",
              "      <td>76</td>\n",
              "      <td>12</td>\n",
              "      <td>3</td>\n",
              "      <td>11</td>\n",
              "      <td>3416887</td>\n",
              "      <td>0</td>\n",
              "      <td>0</td>\n",
              "      <td>0</td>\n",
              "      <td>0</td>\n",
              "      <td>1</td>\n",
              "      <td>1</td>\n",
              "      <td>1</td>\n",
              "      <td>0</td>\n",
              "      <td>0</td>\n",
              "      <td>0</td>\n",
              "      <td>0</td>\n",
              "      <td>0</td>\n",
              "      <td>1</td>\n",
              "      <td>0</td>\n",
              "    </tr>\n",
              "    <tr>\n",
              "      <th>3</th>\n",
              "      <td>22</td>\n",
              "      <td>11</td>\n",
              "      <td>2</td>\n",
              "      <td>2</td>\n",
              "      <td>2489299</td>\n",
              "      <td>0</td>\n",
              "      <td>0</td>\n",
              "      <td>0</td>\n",
              "      <td>0</td>\n",
              "      <td>1</td>\n",
              "      <td>1</td>\n",
              "      <td>0</td>\n",
              "      <td>1</td>\n",
              "      <td>0</td>\n",
              "      <td>0</td>\n",
              "      <td>0</td>\n",
              "      <td>1</td>\n",
              "      <td>0</td>\n",
              "      <td>0</td>\n",
              "    </tr>\n",
              "    <tr>\n",
              "      <th>4</th>\n",
              "      <td>66</td>\n",
              "      <td>13</td>\n",
              "      <td>0</td>\n",
              "      <td>0</td>\n",
              "      <td>204151</td>\n",
              "      <td>0</td>\n",
              "      <td>0</td>\n",
              "      <td>0</td>\n",
              "      <td>0</td>\n",
              "      <td>1</td>\n",
              "      <td>1</td>\n",
              "      <td>1</td>\n",
              "      <td>0</td>\n",
              "      <td>0</td>\n",
              "      <td>0</td>\n",
              "      <td>0</td>\n",
              "      <td>1</td>\n",
              "      <td>0</td>\n",
              "      <td>0</td>\n",
              "    </tr>\n",
              "  </tbody>\n",
              "</table>\n",
              "</div>"
            ],
            "text/plain": [
              "  Age CURRENT_HOUSE_YRS  ... x4_exp_cat_three x4_exp_cat_two\n",
              "0  79                13  ...                0              0\n",
              "1  62                11  ...                0              0\n",
              "2  76                12  ...                1              0\n",
              "3  22                11  ...                0              0\n",
              "4  66                13  ...                0              0\n",
              "\n",
              "[5 rows x 19 columns]"
            ]
          },
          "metadata": {},
          "execution_count": 57
        }
      ]
    },
    {
      "cell_type": "code",
      "metadata": {
        "id": "HkNksnrzZdlD"
      },
      "source": [
        "strat_train_set = strat_train_set.convert_dtypes()"
      ],
      "execution_count": null,
      "outputs": []
    },
    {
      "cell_type": "code",
      "metadata": {
        "id": "KwqtrCDNOiDA"
      },
      "source": [
        "# corr = strat_train_set.corr()\n",
        "\n",
        "# # Getting the Upper Triangle of the co-relation matrix\n",
        "# matrix = np.triu(corr)\n",
        "\n",
        "# # using the upper triangle matrix as mask \n",
        "# sns.set()\n",
        "# plt.figure(figsize=(22,10))\n",
        "# sns.heatmap(corr, annot=True, mask=matrix)\n",
        "# plt.show()"
      ],
      "execution_count": null,
      "outputs": []
    },
    {
      "cell_type": "code",
      "metadata": {
        "colab": {
          "base_uri": "https://localhost:8080/",
          "height": 224
        },
        "id": "4bWknMMza6IY",
        "outputId": "860890b4-2cc3-4846-c1d5-698627acb25a"
      },
      "source": [
        "strat_train_set.head()"
      ],
      "execution_count": null,
      "outputs": [
        {
          "output_type": "execute_result",
          "data": {
            "text/html": [
              "<div>\n",
              "<style scoped>\n",
              "    .dataframe tbody tr th:only-of-type {\n",
              "        vertical-align: middle;\n",
              "    }\n",
              "\n",
              "    .dataframe tbody tr th {\n",
              "        vertical-align: top;\n",
              "    }\n",
              "\n",
              "    .dataframe thead th {\n",
              "        text-align: right;\n",
              "    }\n",
              "</style>\n",
              "<table border=\"1\" class=\"dataframe\">\n",
              "  <thead>\n",
              "    <tr style=\"text-align: right;\">\n",
              "      <th></th>\n",
              "      <th>Age</th>\n",
              "      <th>CURRENT_HOUSE_YRS</th>\n",
              "      <th>CURRENT_JOB_YRS</th>\n",
              "      <th>Experience</th>\n",
              "      <th>Income</th>\n",
              "      <th>Risk_Flag</th>\n",
              "      <th>x0_yes</th>\n",
              "      <th>x1_norent_noown</th>\n",
              "      <th>x1_owned</th>\n",
              "      <th>x1_rented</th>\n",
              "      <th>x2_single</th>\n",
              "      <th>x3_age_cat_four</th>\n",
              "      <th>x3_age_cat_one</th>\n",
              "      <th>x3_age_cat_three</th>\n",
              "      <th>x3_age_cat_two</th>\n",
              "      <th>x4_exp_cat_four</th>\n",
              "      <th>x4_exp_cat_one</th>\n",
              "      <th>x4_exp_cat_three</th>\n",
              "      <th>x4_exp_cat_two</th>\n",
              "    </tr>\n",
              "  </thead>\n",
              "  <tbody>\n",
              "    <tr>\n",
              "      <th>0</th>\n",
              "      <td>79</td>\n",
              "      <td>13</td>\n",
              "      <td>3</td>\n",
              "      <td>17</td>\n",
              "      <td>8344425</td>\n",
              "      <td>0</td>\n",
              "      <td>0</td>\n",
              "      <td>0</td>\n",
              "      <td>0</td>\n",
              "      <td>1</td>\n",
              "      <td>1</td>\n",
              "      <td>1</td>\n",
              "      <td>0</td>\n",
              "      <td>0</td>\n",
              "      <td>0</td>\n",
              "      <td>1</td>\n",
              "      <td>0</td>\n",
              "      <td>0</td>\n",
              "      <td>0</td>\n",
              "    </tr>\n",
              "    <tr>\n",
              "      <th>1</th>\n",
              "      <td>62</td>\n",
              "      <td>11</td>\n",
              "      <td>3</td>\n",
              "      <td>3</td>\n",
              "      <td>3310900</td>\n",
              "      <td>0</td>\n",
              "      <td>1</td>\n",
              "      <td>0</td>\n",
              "      <td>0</td>\n",
              "      <td>1</td>\n",
              "      <td>1</td>\n",
              "      <td>0</td>\n",
              "      <td>0</td>\n",
              "      <td>1</td>\n",
              "      <td>0</td>\n",
              "      <td>0</td>\n",
              "      <td>1</td>\n",
              "      <td>0</td>\n",
              "      <td>0</td>\n",
              "    </tr>\n",
              "    <tr>\n",
              "      <th>2</th>\n",
              "      <td>76</td>\n",
              "      <td>12</td>\n",
              "      <td>3</td>\n",
              "      <td>11</td>\n",
              "      <td>3416887</td>\n",
              "      <td>0</td>\n",
              "      <td>0</td>\n",
              "      <td>0</td>\n",
              "      <td>0</td>\n",
              "      <td>1</td>\n",
              "      <td>1</td>\n",
              "      <td>1</td>\n",
              "      <td>0</td>\n",
              "      <td>0</td>\n",
              "      <td>0</td>\n",
              "      <td>0</td>\n",
              "      <td>0</td>\n",
              "      <td>1</td>\n",
              "      <td>0</td>\n",
              "    </tr>\n",
              "    <tr>\n",
              "      <th>3</th>\n",
              "      <td>22</td>\n",
              "      <td>11</td>\n",
              "      <td>2</td>\n",
              "      <td>2</td>\n",
              "      <td>2489299</td>\n",
              "      <td>0</td>\n",
              "      <td>0</td>\n",
              "      <td>0</td>\n",
              "      <td>0</td>\n",
              "      <td>1</td>\n",
              "      <td>1</td>\n",
              "      <td>0</td>\n",
              "      <td>1</td>\n",
              "      <td>0</td>\n",
              "      <td>0</td>\n",
              "      <td>0</td>\n",
              "      <td>1</td>\n",
              "      <td>0</td>\n",
              "      <td>0</td>\n",
              "    </tr>\n",
              "    <tr>\n",
              "      <th>4</th>\n",
              "      <td>66</td>\n",
              "      <td>13</td>\n",
              "      <td>0</td>\n",
              "      <td>0</td>\n",
              "      <td>204151</td>\n",
              "      <td>0</td>\n",
              "      <td>0</td>\n",
              "      <td>0</td>\n",
              "      <td>0</td>\n",
              "      <td>1</td>\n",
              "      <td>1</td>\n",
              "      <td>1</td>\n",
              "      <td>0</td>\n",
              "      <td>0</td>\n",
              "      <td>0</td>\n",
              "      <td>0</td>\n",
              "      <td>1</td>\n",
              "      <td>0</td>\n",
              "      <td>0</td>\n",
              "    </tr>\n",
              "  </tbody>\n",
              "</table>\n",
              "</div>"
            ],
            "text/plain": [
              "   Age  CURRENT_HOUSE_YRS  ...  x4_exp_cat_three  x4_exp_cat_two\n",
              "0   79                 13  ...                 0               0\n",
              "1   62                 11  ...                 0               0\n",
              "2   76                 12  ...                 1               0\n",
              "3   22                 11  ...                 0               0\n",
              "4   66                 13  ...                 0               0\n",
              "\n",
              "[5 rows x 19 columns]"
            ]
          },
          "metadata": {},
          "execution_count": 60
        }
      ]
    },
    {
      "cell_type": "code",
      "metadata": {
        "id": "SLSlOeNN4xAC"
      },
      "source": [
        "strat_train_set['Income'] = strat_train_set['Income']/1e6"
      ],
      "execution_count": null,
      "outputs": []
    },
    {
      "cell_type": "code",
      "metadata": {
        "id": "JzgHL0faXBBn"
      },
      "source": [
        "train_set_prepared = strat_train_set.copy()"
      ],
      "execution_count": null,
      "outputs": []
    },
    {
      "cell_type": "markdown",
      "metadata": {
        "id": "I2-ktXYsWIL4"
      },
      "source": [
        "---"
      ]
    },
    {
      "cell_type": "code",
      "metadata": {
        "id": "dBd-N8yc5lsW"
      },
      "source": [
        "def preprocessing_pipeline(data_set):\n",
        "  \n",
        "  data_set.drop(['Id', 'Profession', 'CITY', 'STATE'], axis=1, inplace=True)\n",
        "  data_set = data_set.convert_dtypes()\n",
        "\n",
        "  c1 = data_set[data_set['CURRENT_JOB_YRS'] > data_set['Experience']].index\n",
        "  c2 = data_set[data_set['CURRENT_JOB_YRS'] > data_set['Age']].index\n",
        "  c3 = data_set[data_set['CURRENT_HOUSE_YRS'] > data_set['Age']].index\n",
        "  c4 = data_set[data_set['Experience'] > data_set['Age']].index\n",
        "  c5 = data_set[(data_set['Age'] - data_set['Experience']) < 14].index\n",
        "\n",
        "  data_set.drop(set(list(c1)+list(c2)+list(c3)+list(c4)+list(c5)), inplace=True)\n",
        "\n",
        "  # data_set[\"Income_cats\"] = pd.cut(data_set[\"Income\"],\n",
        "  #   bins=np.array([0., .25, .5, .75, 1.])*1e7,\n",
        "  #   labels=['income_low', 'income_avg', 'income_high', 'income_very_high']).astype('string')\n",
        "\n",
        "  data_set['Age_cats'] = data_set.apply(age, axis=1)\n",
        "  data_set['Exp_cats'] = data_set.apply(exp, axis=1)\n",
        "\n",
        "  data_set = data_set.convert_dtypes()\n",
        "\n",
        "  set_cats = data_set.select_dtypes('string')\n",
        "  set_cats = set_cats[[\"Car_Ownership\", \"House_Ownership\", \"Married/Single\",\t\"Age_cats\",\t\"Exp_cats\"]]\n",
        "  set_cats_1hot = cat_encoder.transform(set_cats)\n",
        "\n",
        "  set_cats_1hot = pd.DataFrame(set_cats_1hot.toarray(), columns=cat_encoder.get_feature_names()).convert_dtypes()\n",
        "\n",
        "  set_cats_1hot.drop(['x0_no', 'x2_married'], inplace=True, axis=1)\n",
        "\n",
        "  data_set.drop(set_cats.columns, axis=1, inplace=True)\n",
        "\n",
        "  data_set = pd.DataFrame(np.c_[data_set, set_cats_1hot], columns=list(data_set.columns) + list(set_cats_1hot.columns))\n",
        "\n",
        "  data_set = data_set.convert_dtypes()\n",
        "\n",
        "  data_set['Income'] = data_set['Income']/1e6\n",
        "\n",
        "  # if('Risk_Flag' in data_set.columns):\n",
        "  #   data_set.drop(['Risk_Flag'], axis=1, inplace=True)\n",
        "\n",
        "  return data_set"
      ],
      "execution_count": null,
      "outputs": []
    },
    {
      "cell_type": "code",
      "metadata": {
        "colab": {
          "base_uri": "https://localhost:8080/"
        },
        "id": "ufQdE4XjX13h",
        "outputId": "adf6dfc8-1969-4109-a20c-919a269676f9"
      },
      "source": [
        "strat_valid_set.isna().sum()"
      ],
      "execution_count": null,
      "outputs": [
        {
          "output_type": "execute_result",
          "data": {
            "text/plain": [
              "Id                   0\n",
              "Income               0\n",
              "Age                  0\n",
              "Experience           0\n",
              "Married/Single       0\n",
              "House_Ownership      0\n",
              "Car_Ownership        0\n",
              "Profession           0\n",
              "CITY                 0\n",
              "STATE                0\n",
              "CURRENT_JOB_YRS      0\n",
              "CURRENT_HOUSE_YRS    0\n",
              "Risk_Flag            0\n",
              "dtype: int64"
            ]
          },
          "metadata": {},
          "execution_count": 64
        }
      ]
    },
    {
      "cell_type": "code",
      "metadata": {
        "colab": {
          "base_uri": "https://localhost:8080/"
        },
        "id": "Plcjjn4hYC8U",
        "outputId": "9e5f043d-16e1-4e75-f9c4-bf37dd720b33"
      },
      "source": [
        "strat_valid_set.duplicated().sum()"
      ],
      "execution_count": null,
      "outputs": [
        {
          "output_type": "execute_result",
          "data": {
            "text/plain": [
              "0"
            ]
          },
          "metadata": {},
          "execution_count": 65
        }
      ]
    },
    {
      "cell_type": "code",
      "metadata": {
        "id": "q2dctOKQM7dV"
      },
      "source": [
        "valid_set_prepared = preprocessing_pipeline(strat_valid_set)"
      ],
      "execution_count": null,
      "outputs": []
    },
    {
      "cell_type": "code",
      "metadata": {
        "id": "f64-S_qLbD4X",
        "colab": {
          "base_uri": "https://localhost:8080/",
          "height": 224
        },
        "outputId": "a07b484a-b554-4558-8958-5f33678bacc1"
      },
      "source": [
        "valid_set_prepared.head()"
      ],
      "execution_count": null,
      "outputs": [
        {
          "output_type": "execute_result",
          "data": {
            "text/html": [
              "<div>\n",
              "<style scoped>\n",
              "    .dataframe tbody tr th:only-of-type {\n",
              "        vertical-align: middle;\n",
              "    }\n",
              "\n",
              "    .dataframe tbody tr th {\n",
              "        vertical-align: top;\n",
              "    }\n",
              "\n",
              "    .dataframe thead th {\n",
              "        text-align: right;\n",
              "    }\n",
              "</style>\n",
              "<table border=\"1\" class=\"dataframe\">\n",
              "  <thead>\n",
              "    <tr style=\"text-align: right;\">\n",
              "      <th></th>\n",
              "      <th>Income</th>\n",
              "      <th>Age</th>\n",
              "      <th>Experience</th>\n",
              "      <th>CURRENT_JOB_YRS</th>\n",
              "      <th>CURRENT_HOUSE_YRS</th>\n",
              "      <th>Risk_Flag</th>\n",
              "      <th>x0_yes</th>\n",
              "      <th>x1_norent_noown</th>\n",
              "      <th>x1_owned</th>\n",
              "      <th>x1_rented</th>\n",
              "      <th>x2_single</th>\n",
              "      <th>x3_age_cat_four</th>\n",
              "      <th>x3_age_cat_one</th>\n",
              "      <th>x3_age_cat_three</th>\n",
              "      <th>x3_age_cat_two</th>\n",
              "      <th>x4_exp_cat_four</th>\n",
              "      <th>x4_exp_cat_one</th>\n",
              "      <th>x4_exp_cat_three</th>\n",
              "      <th>x4_exp_cat_two</th>\n",
              "    </tr>\n",
              "  </thead>\n",
              "  <tbody>\n",
              "    <tr>\n",
              "      <th>0</th>\n",
              "      <td>1.695876</td>\n",
              "      <td>58</td>\n",
              "      <td>6</td>\n",
              "      <td>6</td>\n",
              "      <td>13</td>\n",
              "      <td>0</td>\n",
              "      <td>1</td>\n",
              "      <td>0</td>\n",
              "      <td>0</td>\n",
              "      <td>1</td>\n",
              "      <td>1</td>\n",
              "      <td>0</td>\n",
              "      <td>0</td>\n",
              "      <td>1</td>\n",
              "      <td>0</td>\n",
              "      <td>0</td>\n",
              "      <td>0</td>\n",
              "      <td>0</td>\n",
              "      <td>1</td>\n",
              "    </tr>\n",
              "    <tr>\n",
              "      <th>1</th>\n",
              "      <td>3.423010</td>\n",
              "      <td>74</td>\n",
              "      <td>3</td>\n",
              "      <td>3</td>\n",
              "      <td>10</td>\n",
              "      <td>0</td>\n",
              "      <td>1</td>\n",
              "      <td>0</td>\n",
              "      <td>0</td>\n",
              "      <td>1</td>\n",
              "      <td>1</td>\n",
              "      <td>1</td>\n",
              "      <td>0</td>\n",
              "      <td>0</td>\n",
              "      <td>0</td>\n",
              "      <td>0</td>\n",
              "      <td>1</td>\n",
              "      <td>0</td>\n",
              "      <td>0</td>\n",
              "    </tr>\n",
              "    <tr>\n",
              "      <th>2</th>\n",
              "      <td>9.685641</td>\n",
              "      <td>63</td>\n",
              "      <td>5</td>\n",
              "      <td>5</td>\n",
              "      <td>12</td>\n",
              "      <td>0</td>\n",
              "      <td>0</td>\n",
              "      <td>0</td>\n",
              "      <td>0</td>\n",
              "      <td>1</td>\n",
              "      <td>1</td>\n",
              "      <td>0</td>\n",
              "      <td>0</td>\n",
              "      <td>1</td>\n",
              "      <td>0</td>\n",
              "      <td>0</td>\n",
              "      <td>1</td>\n",
              "      <td>0</td>\n",
              "      <td>0</td>\n",
              "    </tr>\n",
              "    <tr>\n",
              "      <th>3</th>\n",
              "      <td>4.806341</td>\n",
              "      <td>79</td>\n",
              "      <td>3</td>\n",
              "      <td>3</td>\n",
              "      <td>13</td>\n",
              "      <td>0</td>\n",
              "      <td>0</td>\n",
              "      <td>0</td>\n",
              "      <td>0</td>\n",
              "      <td>1</td>\n",
              "      <td>1</td>\n",
              "      <td>1</td>\n",
              "      <td>0</td>\n",
              "      <td>0</td>\n",
              "      <td>0</td>\n",
              "      <td>0</td>\n",
              "      <td>1</td>\n",
              "      <td>0</td>\n",
              "      <td>0</td>\n",
              "    </tr>\n",
              "    <tr>\n",
              "      <th>4</th>\n",
              "      <td>0.195009</td>\n",
              "      <td>79</td>\n",
              "      <td>15</td>\n",
              "      <td>4</td>\n",
              "      <td>14</td>\n",
              "      <td>1</td>\n",
              "      <td>1</td>\n",
              "      <td>0</td>\n",
              "      <td>0</td>\n",
              "      <td>1</td>\n",
              "      <td>1</td>\n",
              "      <td>1</td>\n",
              "      <td>0</td>\n",
              "      <td>0</td>\n",
              "      <td>0</td>\n",
              "      <td>0</td>\n",
              "      <td>0</td>\n",
              "      <td>1</td>\n",
              "      <td>0</td>\n",
              "    </tr>\n",
              "  </tbody>\n",
              "</table>\n",
              "</div>"
            ],
            "text/plain": [
              "     Income  Age  Experience  ...  x4_exp_cat_one  x4_exp_cat_three  x4_exp_cat_two\n",
              "0  1.695876   58           6  ...               0                 0               1\n",
              "1  3.423010   74           3  ...               1                 0               0\n",
              "2  9.685641   63           5  ...               1                 0               0\n",
              "3  4.806341   79           3  ...               1                 0               0\n",
              "4  0.195009   79          15  ...               0                 1               0\n",
              "\n",
              "[5 rows x 19 columns]"
            ]
          },
          "metadata": {},
          "execution_count": 67
        }
      ]
    },
    {
      "cell_type": "code",
      "metadata": {
        "colab": {
          "base_uri": "https://localhost:8080/",
          "height": 224
        },
        "id": "Mk0wUGf1xR1h",
        "outputId": "0ee4b99b-c3bc-4547-b6f4-48a62b3c3a19"
      },
      "source": [
        "train_set_prepared.head()"
      ],
      "execution_count": null,
      "outputs": [
        {
          "output_type": "execute_result",
          "data": {
            "text/html": [
              "<div>\n",
              "<style scoped>\n",
              "    .dataframe tbody tr th:only-of-type {\n",
              "        vertical-align: middle;\n",
              "    }\n",
              "\n",
              "    .dataframe tbody tr th {\n",
              "        vertical-align: top;\n",
              "    }\n",
              "\n",
              "    .dataframe thead th {\n",
              "        text-align: right;\n",
              "    }\n",
              "</style>\n",
              "<table border=\"1\" class=\"dataframe\">\n",
              "  <thead>\n",
              "    <tr style=\"text-align: right;\">\n",
              "      <th></th>\n",
              "      <th>Age</th>\n",
              "      <th>CURRENT_HOUSE_YRS</th>\n",
              "      <th>CURRENT_JOB_YRS</th>\n",
              "      <th>Experience</th>\n",
              "      <th>Income</th>\n",
              "      <th>Risk_Flag</th>\n",
              "      <th>x0_yes</th>\n",
              "      <th>x1_norent_noown</th>\n",
              "      <th>x1_owned</th>\n",
              "      <th>x1_rented</th>\n",
              "      <th>x2_single</th>\n",
              "      <th>x3_age_cat_four</th>\n",
              "      <th>x3_age_cat_one</th>\n",
              "      <th>x3_age_cat_three</th>\n",
              "      <th>x3_age_cat_two</th>\n",
              "      <th>x4_exp_cat_four</th>\n",
              "      <th>x4_exp_cat_one</th>\n",
              "      <th>x4_exp_cat_three</th>\n",
              "      <th>x4_exp_cat_two</th>\n",
              "    </tr>\n",
              "  </thead>\n",
              "  <tbody>\n",
              "    <tr>\n",
              "      <th>0</th>\n",
              "      <td>79</td>\n",
              "      <td>13</td>\n",
              "      <td>3</td>\n",
              "      <td>17</td>\n",
              "      <td>8.344425</td>\n",
              "      <td>0</td>\n",
              "      <td>0</td>\n",
              "      <td>0</td>\n",
              "      <td>0</td>\n",
              "      <td>1</td>\n",
              "      <td>1</td>\n",
              "      <td>1</td>\n",
              "      <td>0</td>\n",
              "      <td>0</td>\n",
              "      <td>0</td>\n",
              "      <td>1</td>\n",
              "      <td>0</td>\n",
              "      <td>0</td>\n",
              "      <td>0</td>\n",
              "    </tr>\n",
              "    <tr>\n",
              "      <th>1</th>\n",
              "      <td>62</td>\n",
              "      <td>11</td>\n",
              "      <td>3</td>\n",
              "      <td>3</td>\n",
              "      <td>3.310900</td>\n",
              "      <td>0</td>\n",
              "      <td>1</td>\n",
              "      <td>0</td>\n",
              "      <td>0</td>\n",
              "      <td>1</td>\n",
              "      <td>1</td>\n",
              "      <td>0</td>\n",
              "      <td>0</td>\n",
              "      <td>1</td>\n",
              "      <td>0</td>\n",
              "      <td>0</td>\n",
              "      <td>1</td>\n",
              "      <td>0</td>\n",
              "      <td>0</td>\n",
              "    </tr>\n",
              "    <tr>\n",
              "      <th>2</th>\n",
              "      <td>76</td>\n",
              "      <td>12</td>\n",
              "      <td>3</td>\n",
              "      <td>11</td>\n",
              "      <td>3.416887</td>\n",
              "      <td>0</td>\n",
              "      <td>0</td>\n",
              "      <td>0</td>\n",
              "      <td>0</td>\n",
              "      <td>1</td>\n",
              "      <td>1</td>\n",
              "      <td>1</td>\n",
              "      <td>0</td>\n",
              "      <td>0</td>\n",
              "      <td>0</td>\n",
              "      <td>0</td>\n",
              "      <td>0</td>\n",
              "      <td>1</td>\n",
              "      <td>0</td>\n",
              "    </tr>\n",
              "    <tr>\n",
              "      <th>3</th>\n",
              "      <td>22</td>\n",
              "      <td>11</td>\n",
              "      <td>2</td>\n",
              "      <td>2</td>\n",
              "      <td>2.489299</td>\n",
              "      <td>0</td>\n",
              "      <td>0</td>\n",
              "      <td>0</td>\n",
              "      <td>0</td>\n",
              "      <td>1</td>\n",
              "      <td>1</td>\n",
              "      <td>0</td>\n",
              "      <td>1</td>\n",
              "      <td>0</td>\n",
              "      <td>0</td>\n",
              "      <td>0</td>\n",
              "      <td>1</td>\n",
              "      <td>0</td>\n",
              "      <td>0</td>\n",
              "    </tr>\n",
              "    <tr>\n",
              "      <th>4</th>\n",
              "      <td>66</td>\n",
              "      <td>13</td>\n",
              "      <td>0</td>\n",
              "      <td>0</td>\n",
              "      <td>0.204151</td>\n",
              "      <td>0</td>\n",
              "      <td>0</td>\n",
              "      <td>0</td>\n",
              "      <td>0</td>\n",
              "      <td>1</td>\n",
              "      <td>1</td>\n",
              "      <td>1</td>\n",
              "      <td>0</td>\n",
              "      <td>0</td>\n",
              "      <td>0</td>\n",
              "      <td>0</td>\n",
              "      <td>1</td>\n",
              "      <td>0</td>\n",
              "      <td>0</td>\n",
              "    </tr>\n",
              "  </tbody>\n",
              "</table>\n",
              "</div>"
            ],
            "text/plain": [
              "   Age  CURRENT_HOUSE_YRS  ...  x4_exp_cat_three  x4_exp_cat_two\n",
              "0   79                 13  ...                 0               0\n",
              "1   62                 11  ...                 0               0\n",
              "2   76                 12  ...                 1               0\n",
              "3   22                 11  ...                 0               0\n",
              "4   66                 13  ...                 0               0\n",
              "\n",
              "[5 rows x 19 columns]"
            ]
          },
          "metadata": {},
          "execution_count": 68
        }
      ]
    },
    {
      "cell_type": "markdown",
      "metadata": {
        "id": "B8dJ6uZvvSmd"
      },
      "source": [
        "---"
      ]
    },
    {
      "cell_type": "markdown",
      "metadata": {
        "id": "1gfi71TYvUGT"
      },
      "source": [
        "# **Task2: Regression**"
      ]
    },
    {
      "cell_type": "code",
      "metadata": {
        "id": "_x56dRerb7aq"
      },
      "source": [
        "from sklearn.svm import SVR\n",
        "from sklearn.model_selection import GridSearchCV\n",
        "from sklearn.linear_model import LinearRegression\n",
        "from sklearn.preprocessing import PolynomialFeatures\n",
        "from sklearn.feature_selection import SelectKBest, f_regression\n",
        "from sklearn.metrics import r2_score, mean_squared_log_error, mean_squared_error, mean_absolute_error"
      ],
      "execution_count": null,
      "outputs": []
    },
    {
      "cell_type": "markdown",
      "metadata": {
        "id": "fE1zbRgn-Hst"
      },
      "source": [
        "> ## **Choosing best features for classification**"
      ]
    },
    {
      "cell_type": "code",
      "metadata": {
        "id": "Cs-Q8Ltw1Ita"
      },
      "source": [
        "X_train = train_set_prepared[train_set_prepared.columns.difference(['Income'])]\n",
        "y_train = train_set_prepared['Income'].astype('float')\n",
        "\n",
        "X_valid = valid_set_prepared[valid_set_prepared.columns.difference(['Income'])]\n",
        "y_valid = valid_set_prepared['Income'].astype('float')"
      ],
      "execution_count": null,
      "outputs": []
    },
    {
      "cell_type": "code",
      "metadata": {
        "colab": {
          "base_uri": "https://localhost:8080/",
          "height": 265
        },
        "id": "YGlgNu9RVQ07",
        "outputId": "d9875bf2-23f0-4ec3-e574-016cf5b61987"
      },
      "source": [
        "selector = SelectKBest(f_regression, k=1) # selecting one feature\n",
        "x_temp = selector.fit_transform(X_train, y_train)\n",
        "\n",
        "cols = X_train.columns[selector.get_support()]\n",
        "X_train_trans = pd.DataFrame(x_temp, columns=cols) # final output to use\n",
        "\n",
        "_ = plt.scatter(range(len(list(selector.pvalues_))), list(selector.pvalues_))"
      ],
      "execution_count": null,
      "outputs": [
        {
          "output_type": "display_data",
          "data": {
            "image/png": "[encoded data removed]",
            "text/plain": [
              "<Figure size 432x288 with 1 Axes>"
            ]
          },
          "metadata": {
            "needs_background": "light"
          }
        }
      ]
    },
    {
      "cell_type": "markdown",
      "metadata": {
        "id": "HQ3A9T1Z1gro"
      },
      "source": [
        "# **1) Linear Regression**"
      ]
    },
    {
      "cell_type": "markdown",
      "metadata": {
        "id": "6BvXXsTLWiOk"
      },
      "source": [
        "> ### **Strat training the model**"
      ]
    },
    {
      "cell_type": "code",
      "metadata": {
        "id": "1_10o9huxJ0B"
      },
      "source": [
        "parameters = {'fit_intercept': [True, False], 'normalize': [True, False]}\n",
        "linreg_model = GridSearchCV(LinearRegression(), parameters, scoring='r2')"
      ],
      "execution_count": null,
      "outputs": []
    },
    {
      "cell_type": "code",
      "metadata": {
        "colab": {
          "base_uri": "https://localhost:8080/"
        },
        "id": "rfrit9Z11BbY",
        "outputId": "b83c1f47-e4f8-49c4-d484-58836bb0f4ea"
      },
      "source": [
        "linreg_model.fit(X_train_trans, y_train)"
      ],
      "execution_count": null,
      "outputs": [
        {
          "output_type": "execute_result",
          "data": {
            "text/plain": [
              "GridSearchCV(cv=None, error_score=nan,\n",
              "             estimator=LinearRegression(copy_X=True, fit_intercept=True,\n",
              "                                        n_jobs=None, normalize=False),\n",
              "             iid='deprecated', n_jobs=None,\n",
              "             param_grid={'fit_intercept': [True, False],\n",
              "                         'normalize': [True, False]},\n",
              "             pre_dispatch='2*n_jobs', refit=True, return_train_score=False,\n",
              "             scoring='r2', verbose=0)"
            ]
          },
          "metadata": {},
          "execution_count": 73
        }
      ]
    },
    {
      "cell_type": "code",
      "metadata": {
        "colab": {
          "base_uri": "https://localhost:8080/"
        },
        "id": "KJrRJnc14rI4",
        "outputId": "94a10463-de29-4b8c-bb8c-20fbf690e1ae"
      },
      "source": [
        "linreg_model.best_params_"
      ],
      "execution_count": null,
      "outputs": [
        {
          "output_type": "execute_result",
          "data": {
            "text/plain": [
              "{'fit_intercept': True, 'normalize': True}"
            ]
          },
          "metadata": {},
          "execution_count": 74
        }
      ]
    },
    {
      "cell_type": "code",
      "metadata": {
        "colab": {
          "base_uri": "https://localhost:8080/"
        },
        "id": "PnawsINw484A",
        "outputId": "4d224d55-54bf-4df8-aaf6-f71f8b911d4f"
      },
      "source": [
        "linreg_model.score(X_train_trans, y_train)"
      ],
      "execution_count": null,
      "outputs": [
        {
          "output_type": "execute_result",
          "data": {
            "text/plain": [
              "0.0005572898767391976"
            ]
          },
          "metadata": {},
          "execution_count": 75
        }
      ]
    },
    {
      "cell_type": "code",
      "metadata": {
        "colab": {
          "base_uri": "https://localhost:8080/"
        },
        "id": "ZW1Eyk2F5Mo3",
        "outputId": "7f12dcd2-a478-42a3-a82b-1af27c3512ad"
      },
      "source": [
        "linreg_model.score(X_valid[cols], y_valid)"
      ],
      "execution_count": null,
      "outputs": [
        {
          "output_type": "execute_result",
          "data": {
            "text/plain": [
              "8.837203972711372e-05"
            ]
          },
          "metadata": {},
          "execution_count": 76
        }
      ]
    },
    {
      "cell_type": "code",
      "metadata": {
        "colab": {
          "base_uri": "https://localhost:8080/"
        },
        "id": "KklzisvJNBwI",
        "outputId": "d97e63fb-3439-4618-aa52-d387289f4b60"
      },
      "source": [
        "(mean_squared_log_error(y_valid, linreg_model.predict(X_valid[cols]))*1e6).round(0)"
      ],
      "execution_count": null,
      "outputs": [
        {
          "output_type": "execute_result",
          "data": {
            "text/plain": [
              "387874.0"
            ]
          },
          "metadata": {},
          "execution_count": 77
        }
      ]
    },
    {
      "cell_type": "markdown",
      "metadata": {
        "id": "AVkUqsv0j1nB"
      },
      "source": [
        "> #### **The model is very bad to be used in regression with the current features.**"
      ]
    },
    {
      "cell_type": "markdown",
      "metadata": {
        "id": "C6vJNQ7jtvWV"
      },
      "source": [
        "> ## **Testing model on test_data**"
      ]
    },
    {
      "cell_type": "code",
      "metadata": {
        "id": "_uveJBVtt4lx"
      },
      "source": [
        "test_set = pd.read_csv('test_set.csv')"
      ],
      "execution_count": null,
      "outputs": []
    },
    {
      "cell_type": "code",
      "metadata": {
        "id": "F5heyDS1vAhS"
      },
      "source": [
        "test_set.rename(columns={'ID':'Id'}, inplace=True)"
      ],
      "execution_count": null,
      "outputs": []
    },
    {
      "cell_type": "code",
      "metadata": {
        "colab": {
          "base_uri": "https://localhost:8080/",
          "height": 204
        },
        "id": "iZwUUFkbt4qD",
        "outputId": "310789ac-b8c1-4a67-a0a3-61d1b0776cf5"
      },
      "source": [
        "test_set.head()"
      ],
      "execution_count": null,
      "outputs": [
        {
          "output_type": "execute_result",
          "data": {
            "text/html": [
              "<div>\n",
              "<style scoped>\n",
              "    .dataframe tbody tr th:only-of-type {\n",
              "        vertical-align: middle;\n",
              "    }\n",
              "\n",
              "    .dataframe tbody tr th {\n",
              "        vertical-align: top;\n",
              "    }\n",
              "\n",
              "    .dataframe thead th {\n",
              "        text-align: right;\n",
              "    }\n",
              "</style>\n",
              "<table border=\"1\" class=\"dataframe\">\n",
              "  <thead>\n",
              "    <tr style=\"text-align: right;\">\n",
              "      <th></th>\n",
              "      <th>Id</th>\n",
              "      <th>Income</th>\n",
              "      <th>Age</th>\n",
              "      <th>Experience</th>\n",
              "      <th>Married/Single</th>\n",
              "      <th>House_Ownership</th>\n",
              "      <th>Car_Ownership</th>\n",
              "      <th>Profession</th>\n",
              "      <th>CITY</th>\n",
              "      <th>STATE</th>\n",
              "      <th>CURRENT_JOB_YRS</th>\n",
              "      <th>CURRENT_HOUSE_YRS</th>\n",
              "    </tr>\n",
              "  </thead>\n",
              "  <tbody>\n",
              "    <tr>\n",
              "      <th>0</th>\n",
              "      <td>1</td>\n",
              "      <td>7393090</td>\n",
              "      <td>59</td>\n",
              "      <td>19</td>\n",
              "      <td>single</td>\n",
              "      <td>rented</td>\n",
              "      <td>no</td>\n",
              "      <td>Geologist</td>\n",
              "      <td>Malda</td>\n",
              "      <td>West Bengal</td>\n",
              "      <td>4</td>\n",
              "      <td>13</td>\n",
              "    </tr>\n",
              "    <tr>\n",
              "      <th>1</th>\n",
              "      <td>2</td>\n",
              "      <td>1215004</td>\n",
              "      <td>25</td>\n",
              "      <td>5</td>\n",
              "      <td>single</td>\n",
              "      <td>rented</td>\n",
              "      <td>no</td>\n",
              "      <td>Firefighter</td>\n",
              "      <td>Jalna</td>\n",
              "      <td>Maharashtra</td>\n",
              "      <td>5</td>\n",
              "      <td>10</td>\n",
              "    </tr>\n",
              "    <tr>\n",
              "      <th>2</th>\n",
              "      <td>3</td>\n",
              "      <td>8901342</td>\n",
              "      <td>50</td>\n",
              "      <td>12</td>\n",
              "      <td>single</td>\n",
              "      <td>rented</td>\n",
              "      <td>no</td>\n",
              "      <td>Lawyer</td>\n",
              "      <td>Thane</td>\n",
              "      <td>Maharashtra</td>\n",
              "      <td>9</td>\n",
              "      <td>14</td>\n",
              "    </tr>\n",
              "    <tr>\n",
              "      <th>3</th>\n",
              "      <td>4</td>\n",
              "      <td>1944421</td>\n",
              "      <td>49</td>\n",
              "      <td>9</td>\n",
              "      <td>married</td>\n",
              "      <td>rented</td>\n",
              "      <td>yes</td>\n",
              "      <td>Analyst</td>\n",
              "      <td>Latur</td>\n",
              "      <td>Maharashtra</td>\n",
              "      <td>3</td>\n",
              "      <td>12</td>\n",
              "    </tr>\n",
              "    <tr>\n",
              "      <th>4</th>\n",
              "      <td>5</td>\n",
              "      <td>13429</td>\n",
              "      <td>25</td>\n",
              "      <td>18</td>\n",
              "      <td>single</td>\n",
              "      <td>rented</td>\n",
              "      <td>yes</td>\n",
              "      <td>Comedian</td>\n",
              "      <td>Berhampore</td>\n",
              "      <td>West Bengal</td>\n",
              "      <td>13</td>\n",
              "      <td>11</td>\n",
              "    </tr>\n",
              "  </tbody>\n",
              "</table>\n",
              "</div>"
            ],
            "text/plain": [
              "   Id   Income  Age  ...        STATE CURRENT_JOB_YRS CURRENT_HOUSE_YRS\n",
              "0   1  7393090   59  ...  West Bengal               4                13\n",
              "1   2  1215004   25  ...  Maharashtra               5                10\n",
              "2   3  8901342   50  ...  Maharashtra               9                14\n",
              "3   4  1944421   49  ...  Maharashtra               3                12\n",
              "4   5    13429   25  ...  West Bengal              13                11\n",
              "\n",
              "[5 rows x 12 columns]"
            ]
          },
          "metadata": {},
          "execution_count": 80
        }
      ]
    },
    {
      "cell_type": "code",
      "metadata": {
        "colab": {
          "base_uri": "https://localhost:8080/"
        },
        "id": "fGrMjuDYt4vU",
        "outputId": "64f4d7ee-09b2-4d5b-d51f-65bcbffc71da"
      },
      "source": [
        "test_set.isna().sum()"
      ],
      "execution_count": null,
      "outputs": [
        {
          "output_type": "execute_result",
          "data": {
            "text/plain": [
              "Id                   0\n",
              "Income               0\n",
              "Age                  0\n",
              "Experience           0\n",
              "Married/Single       0\n",
              "House_Ownership      0\n",
              "Car_Ownership        0\n",
              "Profession           0\n",
              "CITY                 0\n",
              "STATE                0\n",
              "CURRENT_JOB_YRS      0\n",
              "CURRENT_HOUSE_YRS    0\n",
              "dtype: int64"
            ]
          },
          "metadata": {},
          "execution_count": 81
        }
      ]
    },
    {
      "cell_type": "code",
      "metadata": {
        "colab": {
          "base_uri": "https://localhost:8080/"
        },
        "id": "-fTjOhwCuQ7v",
        "outputId": "b3b4d3c5-b70a-4511-e64a-94a60e91f887"
      },
      "source": [
        "test_set.duplicated().sum()"
      ],
      "execution_count": null,
      "outputs": [
        {
          "output_type": "execute_result",
          "data": {
            "text/plain": [
              "0"
            ]
          },
          "metadata": {},
          "execution_count": 82
        }
      ]
    },
    {
      "cell_type": "code",
      "metadata": {
        "id": "1Y_V4TwLuTiA"
      },
      "source": [
        "test_set_prepared = preprocessing_pipeline(test_set)"
      ],
      "execution_count": null,
      "outputs": []
    },
    {
      "cell_type": "code",
      "metadata": {
        "colab": {
          "base_uri": "https://localhost:8080/"
        },
        "id": "l8-DCOEgzkWz",
        "outputId": "8850e412-a320-467f-a6f5-31cc91b15dd8"
      },
      "source": [
        "(linreg_model.predict(test_set_prepared[cols])*1e6).round(0)"
      ],
      "execution_count": null,
      "outputs": [
        {
          "output_type": "execute_result",
          "data": {
            "text/plain": [
              "array([4987159., 4987159., 4987159., ..., 4987159., 4987159., 4987159.])"
            ]
          },
          "metadata": {},
          "execution_count": 84
        }
      ]
    },
    {
      "cell_type": "markdown",
      "metadata": {
        "id": "putTL1OVw9I_"
      },
      "source": [
        "> #### The prediction to be submitted"
      ]
    },
    {
      "cell_type": "markdown",
      "metadata": {
        "id": "-znebjzVKKEJ"
      },
      "source": [
        "---"
      ]
    },
    {
      "cell_type": "markdown",
      "metadata": {
        "id": "3XvDqXfN1Wgt"
      },
      "source": [
        "> ## **Implementation of the algorithm**"
      ]
    },
    {
      "cell_type": "code",
      "metadata": {
        "id": "5qI8PmG8k5xR"
      },
      "source": [
        "def ssr_gradient(x, y, b):\n",
        "  res = b[0] + b[1] * x - y\n",
        "  return res.mean(), (res * x).mean()\n",
        "\n",
        "def gradient_descent(gradient, x, y, start, learn_rate=0.1, n_iter=50, tolerance=1e-06):\n",
        "  vector = start\n",
        "  for _ in range(n_iter):\n",
        "    diff = -learn_rate * np.array(gradient(x, y, vector))\n",
        "    if np.all(np.abs(diff) <= tolerance):\n",
        "      break\n",
        "    vector += diff\n",
        "  return vector\n",
        "\n",
        "def R2_score(y_actual, y_pred):\n",
        "    SStot = np.sum((y_actual - np.mean(y_actual))**2)\n",
        "    SSres = np.sum((y_actual - y_pred)**2)\n",
        "    R2 = 1 - (SSres / SStot)\n",
        "    return R2"
      ],
      "execution_count": null,
      "outputs": []
    },
    {
      "cell_type": "code",
      "metadata": {
        "id": "VDALRY-m5gOd"
      },
      "source": [
        "trial = gradient_descent(ssr_gradient, X_train_trans.iloc[:3000,0], y_train[:3000], [0,0], 0.05, 1000)"
      ],
      "execution_count": null,
      "outputs": []
    },
    {
      "cell_type": "code",
      "metadata": {
        "colab": {
          "base_uri": "https://localhost:8080/"
        },
        "id": "xWfVznNuDDu2",
        "outputId": "4ec94786-0537-4b74-fbb7-9c561711807b"
      },
      "source": [
        "y_pred = trial[0] + trial[1] * X_train_trans.iloc[:3000,0]\n",
        "\n",
        "R2_score(y_train[:3000], y_pred)"
      ],
      "execution_count": null,
      "outputs": [
        {
          "output_type": "execute_result",
          "data": {
            "text/plain": [
              "0.0024762012427191893"
            ]
          },
          "metadata": {},
          "execution_count": 87
        }
      ]
    },
    {
      "cell_type": "code",
      "metadata": {
        "colab": {
          "base_uri": "https://localhost:8080/"
        },
        "id": "TctFaPtkEZfc",
        "outputId": "1b6c81e1-efb9-4ca7-8ef7-d4a26ba4cb4d"
      },
      "source": [
        "y_pred = trial[0] + trial[1] * X_valid.iloc[:3000,0]\n",
        "\n",
        "R2_score(y_valid[:3000], y_pred)"
      ],
      "execution_count": null,
      "outputs": [
        {
          "output_type": "execute_result",
          "data": {
            "text/plain": [
              "-139.89359619817154"
            ]
          },
          "metadata": {},
          "execution_count": 88
        }
      ]
    },
    {
      "cell_type": "markdown",
      "metadata": {
        "id": "evxzvxS8slNL"
      },
      "source": [
        "> #### This implementation takes too much time to run so I took a small sample only of train_set and valid_set."
      ]
    },
    {
      "cell_type": "markdown",
      "metadata": {
        "id": "jyDDgCLL1PSt"
      },
      "source": [
        "---"
      ]
    },
    {
      "cell_type": "markdown",
      "metadata": {
        "id": "Ly-ohc911Qo5"
      },
      "source": [
        "# **2) Multiple Regression**"
      ]
    },
    {
      "cell_type": "code",
      "metadata": {
        "id": "YZPSuFHBMb3_"
      },
      "source": [
        "X_train = train_set_prepared[train_set_prepared.columns.difference(['Income'])]\n",
        "y_train = train_set_prepared['Income'].astype('float')\n",
        "\n",
        "X_valid = valid_set_prepared[valid_set_prepared.columns.difference(['Income'])]\n",
        "y_valid = valid_set_prepared['Income'].astype('float')"
      ],
      "execution_count": null,
      "outputs": []
    },
    {
      "cell_type": "code",
      "metadata": {
        "id": "3oxRj980Mb4A"
      },
      "source": [
        "selector = SelectKBest(f_regression, k=4) # selecting many features\n",
        "x_temp = selector.fit_transform(X_train, y_train)\n",
        "\n",
        "cols = X_train.columns[selector.get_support()]\n",
        "X_train_trans = pd.DataFrame(x_temp, columns=cols) # final output to use"
      ],
      "execution_count": null,
      "outputs": []
    },
    {
      "cell_type": "markdown",
      "metadata": {
        "id": "1h2cl5HS2GXq"
      },
      "source": [
        "> ### **Strat training the model**"
      ]
    },
    {
      "cell_type": "code",
      "metadata": {
        "id": "YFsGDoTjMb4B"
      },
      "source": [
        "parameters = {'fit_intercept': [True, False], 'normalize': [True, False]}\n",
        "multireg_model = GridSearchCV(LinearRegression(), parameters, scoring='r2')"
      ],
      "execution_count": null,
      "outputs": []
    },
    {
      "cell_type": "code",
      "metadata": {
        "colab": {
          "base_uri": "https://localhost:8080/"
        },
        "id": "71GyhY4EMb4B",
        "outputId": "440d48cb-f0a6-43d6-854a-0f9bd62236fa"
      },
      "source": [
        "multireg_model.fit(X_train_trans, y_train)"
      ],
      "execution_count": null,
      "outputs": [
        {
          "output_type": "execute_result",
          "data": {
            "text/plain": [
              "GridSearchCV(cv=None, error_score=nan,\n",
              "             estimator=LinearRegression(copy_X=True, fit_intercept=True,\n",
              "                                        n_jobs=None, normalize=False),\n",
              "             iid='deprecated', n_jobs=None,\n",
              "             param_grid={'fit_intercept': [True, False],\n",
              "                         'normalize': [True, False]},\n",
              "             pre_dispatch='2*n_jobs', refit=True, return_train_score=False,\n",
              "             scoring='r2', verbose=0)"
            ]
          },
          "metadata": {},
          "execution_count": 92
        }
      ]
    },
    {
      "cell_type": "code",
      "metadata": {
        "colab": {
          "base_uri": "https://localhost:8080/"
        },
        "id": "p5Z-PAmMMb4C",
        "outputId": "d0d4e28e-2f01-4c10-8b8c-e894eed0b2f1"
      },
      "source": [
        "multireg_model.best_params_"
      ],
      "execution_count": null,
      "outputs": [
        {
          "output_type": "execute_result",
          "data": {
            "text/plain": [
              "{'fit_intercept': True, 'normalize': True}"
            ]
          },
          "metadata": {},
          "execution_count": 93
        }
      ]
    },
    {
      "cell_type": "code",
      "metadata": {
        "colab": {
          "base_uri": "https://localhost:8080/"
        },
        "id": "YJC8vvc7Mb4C",
        "outputId": "438306fe-0405-4cb4-bbc4-259faa787e57"
      },
      "source": [
        "multireg_model.score(X_train_trans, y_train)"
      ],
      "execution_count": null,
      "outputs": [
        {
          "output_type": "execute_result",
          "data": {
            "text/plain": [
              "0.0012226336285940942"
            ]
          },
          "metadata": {},
          "execution_count": 94
        }
      ]
    },
    {
      "cell_type": "code",
      "metadata": {
        "colab": {
          "base_uri": "https://localhost:8080/"
        },
        "id": "pg7Y6gGFMb4D",
        "outputId": "05d5e702-ce06-48be-d837-065e9ca363ea"
      },
      "source": [
        "multireg_model.score(X_valid[cols], y_valid)"
      ],
      "execution_count": null,
      "outputs": [
        {
          "output_type": "execute_result",
          "data": {
            "text/plain": [
              "0.0006818655039995125"
            ]
          },
          "metadata": {},
          "execution_count": 95
        }
      ]
    },
    {
      "cell_type": "code",
      "metadata": {
        "colab": {
          "base_uri": "https://localhost:8080/"
        },
        "id": "OyGewfT6Mb4D",
        "outputId": "7a122a8f-26f2-47c3-fef5-7a84ef8639a1"
      },
      "source": [
        "(mean_squared_log_error(y_valid, multireg_model.predict(X_valid[cols]))*1e6).round(0)"
      ],
      "execution_count": null,
      "outputs": [
        {
          "output_type": "execute_result",
          "data": {
            "text/plain": [
              "387672.0"
            ]
          },
          "metadata": {},
          "execution_count": 96
        }
      ]
    },
    {
      "cell_type": "markdown",
      "metadata": {
        "id": "KBJ9N9lM8yBl"
      },
      "source": [
        "> #### **Better results and better error score than simple linear regression (error decreased but not too much)**"
      ]
    },
    {
      "cell_type": "markdown",
      "metadata": {
        "id": "BxJrz-LP9Y_O"
      },
      "source": [
        "---"
      ]
    },
    {
      "cell_type": "markdown",
      "metadata": {
        "id": "1AHYGkYb9K5e"
      },
      "source": [
        "> ## **Testing model on test_data**"
      ]
    },
    {
      "cell_type": "code",
      "metadata": {
        "colab": {
          "base_uri": "https://localhost:8080/"
        },
        "id": "lb7JpNXh9K5f",
        "outputId": "b097a049-68cc-4970-a758-ad497a7062f4"
      },
      "source": [
        "(multireg_model.predict(test_set_prepared[cols])*1e6).round(0)"
      ],
      "execution_count": null,
      "outputs": [
        {
          "output_type": "execute_result",
          "data": {
            "text/plain": [
              "array([4995634., 4995634., 5110990., ..., 4995634., 5110990., 4885116.])"
            ]
          },
          "metadata": {},
          "execution_count": 97
        }
      ]
    },
    {
      "cell_type": "markdown",
      "metadata": {
        "id": "AWQY-xv79K5g"
      },
      "source": [
        "> #### The prediction to be submitted"
      ]
    },
    {
      "cell_type": "markdown",
      "metadata": {
        "id": "v84YQNQB9WzS"
      },
      "source": [
        "---"
      ]
    },
    {
      "cell_type": "markdown",
      "metadata": {
        "id": "f5bV0FGx9WzT"
      },
      "source": [
        "> ## **Implementation of the algorithm**"
      ]
    },
    {
      "cell_type": "code",
      "metadata": {
        "id": "kg_vZCiu4ss2"
      },
      "source": [
        "def ssr_gradient(x, y, b):\n",
        "  res = x.dot(b) - y\n",
        "  return (np.array(res).T*np.array(x.T)).mean(axis=1).reshape(-1,1)\n",
        "\n",
        "\n",
        "def gradient_descent(gradient, x, y, start, learn_rate=0.1, n_iter=50, tolerance=1e-06):\n",
        "  # cost_history = [0] * n_iter\n",
        "  vector = start\n",
        "  for itr in range(n_iter):\n",
        "    diff = -learn_rate * gradient(x, y, vector)\n",
        "    if np.all(np.abs(diff) <= tolerance):\n",
        "      break\n",
        "    vector += diff\n",
        "    # cost = np.sum(np.square(x.dot(vector) - y))/(2 * len(y))\n",
        "    # cost_history[itr] = cost\n",
        "  return vector #, cost_history\n",
        "\n",
        "\n",
        "def R2_score(y_actual, y_pred):\n",
        "    SStot = np.sum((y_actual - np.mean(y_actual))**2)\n",
        "    SSres = np.sum((y_actual - y_pred)**2)\n",
        "    R2 = 1 - (SSres / SStot)\n",
        "    return R2"
      ],
      "execution_count": null,
      "outputs": []
    },
    {
      "cell_type": "code",
      "metadata": {
        "id": "2DE8fftzrcUh"
      },
      "source": [
        "x = np.matrix(X_train_trans).astype('float')\n",
        "x = np.c_[np.ones(len(x)), x]\n",
        "y = np.matrix(y_train).T\n",
        "\n",
        "b = np.matrix(np.zeros(x.shape[1])).T\n",
        "\n",
        "trial = gradient_descent(ssr_gradient, x, y, b)"
      ],
      "execution_count": null,
      "outputs": []
    },
    {
      "cell_type": "code",
      "metadata": {
        "id": "asTe8lNF_aIT"
      },
      "source": [
        "y_pred = x.dot(trial)"
      ],
      "execution_count": null,
      "outputs": []
    },
    {
      "cell_type": "code",
      "metadata": {
        "colab": {
          "base_uri": "https://localhost:8080/"
        },
        "id": "J2qrDHDbRXFX",
        "outputId": "8d42a3d1-9971-4f8e-83ea-84d5327fa834"
      },
      "source": [
        "R2_score(np.array(y.tolist()), np.array(y_pred.tolist()))"
      ],
      "execution_count": null,
      "outputs": [
        {
          "output_type": "execute_result",
          "data": {
            "text/plain": [
              "-0.02860646890520613"
            ]
          },
          "metadata": {},
          "execution_count": 101
        }
      ]
    },
    {
      "cell_type": "code",
      "metadata": {
        "colab": {
          "base_uri": "https://localhost:8080/"
        },
        "id": "irUwAStQU8_X",
        "outputId": "2105c01e-3381-4a35-cb59-94fa4601e855"
      },
      "source": [
        "x = np.matrix(X_valid[cols]).astype('float')\n",
        "x = np.c_[np.ones(len(x)), x]\n",
        "y = np.matrix(y_valid).T\n",
        "\n",
        "y_pred = x.dot(trial)\n",
        "R2_score(np.array(y.tolist()), np.array(y_pred.tolist()))"
      ],
      "execution_count": null,
      "outputs": [
        {
          "output_type": "execute_result",
          "data": {
            "text/plain": [
              "-0.03585432349404827"
            ]
          },
          "metadata": {},
          "execution_count": 102
        }
      ]
    },
    {
      "cell_type": "markdown",
      "metadata": {
        "id": "vzQu8h_BVYSu"
      },
      "source": [
        "> #### **It gave bad results because of initialization values of b**"
      ]
    },
    {
      "cell_type": "markdown",
      "metadata": {
        "id": "czFNo3FoArzo"
      },
      "source": [
        "---"
      ]
    },
    {
      "cell_type": "markdown",
      "metadata": {
        "id": "vKfYlS64BC7d"
      },
      "source": [
        "# **3) Polynomial Regression**"
      ]
    },
    {
      "cell_type": "code",
      "metadata": {
        "id": "SB5hS9ZXjrcT"
      },
      "source": [
        "results, errors = [], []\n",
        "\n",
        "for inter in [True, False]:\n",
        "  for deg in [2, 4, 6, 8]:\n",
        "    \n",
        "    polyf = PolynomialFeatures(degree=deg, interaction_only=inter)\n",
        "    x_tempo = polyf.fit_transform(X_train_trans)\n",
        "\n",
        "    parameters = {'fit_intercept': [True, False], 'normalize': [True, False]}\n",
        "    polyreg_model = GridSearchCV(LinearRegression(), parameters, scoring='r2')\n",
        "\n",
        "    polyreg_model.fit(x_tempo, y_train)\n",
        "    x_val_tempo = polyf.transform(X_valid[cols])\n",
        "    error = (mean_squared_log_error(y_valid, polyreg_model.predict(x_val_tempo))*1e6).round(0)\n",
        "\n",
        "    results.append((inter, deg, polyreg_model.best_params_))\n",
        "    errors.append(error)"
      ],
      "execution_count": null,
      "outputs": []
    },
    {
      "cell_type": "code",
      "metadata": {
        "colab": {
          "base_uri": "https://localhost:8080/"
        },
        "id": "E3PZngEwXfnK",
        "outputId": "56ca356d-5d2e-4cbf-d9c5-7885ffea1c2c"
      },
      "source": [
        "target_index = errors.index(min(errors))\n",
        "print(results[target_index], errors[target_index])"
      ],
      "execution_count": null,
      "outputs": [
        {
          "output_type": "stream",
          "name": "stdout",
          "text": [
            "(False, 8, {'fit_intercept': False, 'normalize': True}) 387433.0\n"
          ]
        }
      ]
    },
    {
      "cell_type": "markdown",
      "metadata": {
        "id": "W02MQNdHBC7e"
      },
      "source": [
        "> ### **Strat training the model**"
      ]
    },
    {
      "cell_type": "code",
      "metadata": {
        "colab": {
          "base_uri": "https://localhost:8080/"
        },
        "id": "b5XuGqm5YRRU",
        "outputId": "501bd440-4a5b-4840-f5d9-1ff02a3f7b92"
      },
      "source": [
        "polyfinal = PolynomialFeatures(degree=8, interaction_only=False)\n",
        "x_tempo = polyfinal.fit_transform(X_train_trans)\n",
        "polyreg_model_final = LinearRegression(False, True)\n",
        "polyreg_model_final.fit(x_tempo, y_train)\n",
        "x_val_tempo = polyfinal.transform(X_valid[cols])\n",
        "\n",
        "print((mean_squared_log_error(y_valid, polyreg_model_final.predict(x_val_tempo))*1e6).round(0))"
      ],
      "execution_count": null,
      "outputs": [
        {
          "output_type": "stream",
          "name": "stdout",
          "text": [
            "387433.0\n"
          ]
        }
      ]
    },
    {
      "cell_type": "markdown",
      "metadata": {
        "id": "Vj3CXXVSx3C4"
      },
      "source": [
        "> #### **Tried various parameters to get the lowest error. It slightly decreased by polynomial regression compared to multiple regression.**"
      ]
    },
    {
      "cell_type": "markdown",
      "metadata": {
        "id": "BUDQ_LzBx3WO"
      },
      "source": [
        "---"
      ]
    },
    {
      "cell_type": "markdown",
      "metadata": {
        "id": "M7LynsaLx3WP"
      },
      "source": [
        "> ## **Testing model on test_data**"
      ]
    },
    {
      "cell_type": "code",
      "metadata": {
        "colab": {
          "base_uri": "https://localhost:8080/"
        },
        "id": "cEVTyltIx3WP",
        "outputId": "0dcc8fb0-c57f-49af-b535-1a3253bdf7d6"
      },
      "source": [
        "x_test_tempo = polyfinal.transform(test_set_prepared[cols])\n",
        "(polyreg_model_final.predict(x_test_tempo)*1e6).round(0)"
      ],
      "execution_count": null,
      "outputs": [
        {
          "output_type": "execute_result",
          "data": {
            "text/plain": [
              "array([4991211., 4991211., 5122803., ..., 4991211., 5122803., 4951416.])"
            ]
          },
          "metadata": {},
          "execution_count": 108
        }
      ]
    },
    {
      "cell_type": "markdown",
      "metadata": {
        "id": "p_NfY8uEx3WP"
      },
      "source": [
        "> #### The prediction to be submitted"
      ]
    },
    {
      "cell_type": "markdown",
      "metadata": {
        "id": "apWiI4Wax3WQ"
      },
      "source": [
        "---"
      ]
    },
    {
      "cell_type": "markdown",
      "metadata": {
        "id": "jxrbMgb8EVjf"
      },
      "source": [
        "# **4) Support Vector Regressor**"
      ]
    },
    {
      "cell_type": "markdown",
      "metadata": {
        "id": "ClMnvhE7EVjf"
      },
      "source": [
        "> ### **Strat training the model**"
      ]
    },
    {
      "cell_type": "code",
      "metadata": {
        "id": "WQQcmLSGEVjg"
      },
      "source": [
        "parameters = {'kernel': ['rbf', 'linear', 'poly'], 'gamma': ['auto', 'scale'], 'degree': [2, 3, 4], 'C': [1, 10]}\n",
        "svr_model = GridSearchCV(SVR(), parameters, scoring='r2')"
      ],
      "execution_count": null,
      "outputs": []
    },
    {
      "cell_type": "code",
      "metadata": {
        "colab": {
          "base_uri": "https://localhost:8080/"
        },
        "id": "-wtOKUnt1Nve",
        "outputId": "c5d7f9bb-f567-44ba-a18d-514ae1de84cb"
      },
      "source": [
        "svr_model.fit(X_train_trans.iloc[:5000,:], y_train[:5000])"
      ],
      "execution_count": null,
      "outputs": [
        {
          "output_type": "execute_result",
          "data": {
            "text/plain": [
              "GridSearchCV(cv=None, error_score=nan,\n",
              "             estimator=SVR(C=1.0, cache_size=200, coef0=0.0, degree=3,\n",
              "                           epsilon=0.1, gamma='scale', kernel='rbf',\n",
              "                           max_iter=-1, shrinking=True, tol=0.001,\n",
              "                           verbose=False),\n",
              "             iid='deprecated', n_jobs=None,\n",
              "             param_grid={'C': [1, 10], 'degree': [2, 3, 4],\n",
              "                         'gamma': ['auto', 'scale'],\n",
              "                         'kernel': ['rbf', 'linear', 'poly']},\n",
              "             pre_dispatch='2*n_jobs', refit=True, return_train_score=False,\n",
              "             scoring='r2', verbose=0)"
            ]
          },
          "metadata": {},
          "execution_count": 125
        }
      ]
    },
    {
      "cell_type": "code",
      "metadata": {
        "colab": {
          "base_uri": "https://localhost:8080/"
        },
        "id": "C5yqfHuA1Nvf",
        "outputId": "f5cbee38-464c-40d1-dc79-40296f2cf491"
      },
      "source": [
        "svr_model.best_params_"
      ],
      "execution_count": null,
      "outputs": [
        {
          "output_type": "execute_result",
          "data": {
            "text/plain": [
              "{'C': 1, 'degree': 4, 'gamma': 'auto', 'kernel': 'poly'}"
            ]
          },
          "metadata": {},
          "execution_count": 126
        }
      ]
    },
    {
      "cell_type": "code",
      "metadata": {
        "colab": {
          "base_uri": "https://localhost:8080/"
        },
        "id": "6mV9fOGx1Nvh",
        "outputId": "9800624c-3c68-4c80-dc12-25599793c8f2"
      },
      "source": [
        "svr_model.score(X_train_trans.iloc[:5000,:], y_train[:5000])"
      ],
      "execution_count": null,
      "outputs": [
        {
          "output_type": "execute_result",
          "data": {
            "text/plain": [
              "0.002131937474346035"
            ]
          },
          "metadata": {},
          "execution_count": 127
        }
      ]
    },
    {
      "cell_type": "code",
      "metadata": {
        "colab": {
          "base_uri": "https://localhost:8080/"
        },
        "id": "duJQQuOj1Nvi",
        "outputId": "ed301dfb-5a00-4c40-f1d0-a7ca36c21b50"
      },
      "source": [
        "svr_model.score(X_valid[cols].iloc[:1000,:], y_valid[:1000])"
      ],
      "execution_count": null,
      "outputs": [
        {
          "output_type": "execute_result",
          "data": {
            "text/plain": [
              "-0.010904878112071081"
            ]
          },
          "metadata": {},
          "execution_count": 129
        }
      ]
    },
    {
      "cell_type": "code",
      "metadata": {
        "colab": {
          "base_uri": "https://localhost:8080/"
        },
        "id": "s_7WSN9H1Nvi",
        "outputId": "e134bf00-f189-4a2f-f707-08da59008c62"
      },
      "source": [
        "(mean_squared_log_error(y_valid[:1000], svr_model.predict(X_valid[cols].iloc[:1000,:]))*1e6).round(0)"
      ],
      "execution_count": null,
      "outputs": [
        {
          "output_type": "execute_result",
          "data": {
            "text/plain": [
              "428906.0"
            ]
          },
          "metadata": {},
          "execution_count": 130
        }
      ]
    },
    {
      "cell_type": "markdown",
      "metadata": {
        "id": "VzcThkxYIGpX"
      },
      "source": [
        "> #### **The model takes too much time to run so I used a small sample of data to run and it gave bad results due to this approach as the error increased.**"
      ]
    },
    {
      "cell_type": "markdown",
      "metadata": {
        "id": "QcgrCWFCLdeL"
      },
      "source": [
        "---"
      ]
    },
    {
      "cell_type": "markdown",
      "metadata": {
        "id": "xPU09eQ0LdeM"
      },
      "source": [
        "> ## **Testing model on test_data**"
      ]
    },
    {
      "cell_type": "code",
      "metadata": {
        "colab": {
          "base_uri": "https://localhost:8080/"
        },
        "id": "vJC6DxEgLdeM",
        "outputId": "eda15532-6582-49bb-8ca0-14e8c4d5cf7c"
      },
      "source": [
        "(svr_model.predict(test_set_prepared[cols])*1e6).round(0)"
      ],
      "execution_count": null,
      "outputs": [
        {
          "output_type": "execute_result",
          "data": {
            "text/plain": [
              "array([5074753., 5074753., 5503910., ..., 5074753., 5503910., 5158315.])"
            ]
          },
          "metadata": {},
          "execution_count": 131
        }
      ]
    },
    {
      "cell_type": "markdown",
      "metadata": {
        "id": "ltg1vA4aLdeO"
      },
      "source": [
        "> #### The prediction to be submitted"
      ]
    },
    {
      "cell_type": "markdown",
      "metadata": {
        "id": "AdbPMqcKLdeO"
      },
      "source": [
        "---"
      ]
    },
    {
      "cell_type": "markdown",
      "metadata": {
        "id": "TcB9lRgctuxf"
      },
      "source": [
        "> ## **Polynomial Regression is the best models according to error value and SVR is the worst but all is bad according to accuracy or for regression overall.**"
      ]
    }
  ]
}